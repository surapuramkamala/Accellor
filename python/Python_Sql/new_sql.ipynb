{
 "cells": [
  {
   "cell_type": "code",
   "execution_count": 37,
   "metadata": {},
   "outputs": [],
   "source": [
    "# use database\n",
    "mycursor.execute(\"USE mydatabase\")\n"
   ]
  },
  {
   "cell_type": "code",
   "execution_count": null,
   "metadata": {},
   "outputs": [],
   "source": [
    "# deleting Databse\n",
    "# mycursor.execute(\"DROP DATABASE IF EXISTS mydatabase\")"
   ]
  },
  {
   "cell_type": "code",
   "execution_count": null,
   "metadata": {},
   "outputs": [],
   "source": [
    "#delete table\n",
    "# mycursor.execute(\"DROP TABLE IF EXISTS customer\")"
   ]
  },
  {
   "cell_type": "code",
   "execution_count": 1,
   "metadata": {},
   "outputs": [
    {
     "name": "stdout",
     "output_type": "stream",
     "text": [
      "<mysql.connector.connection_cext.CMySQLConnection object at 0x000001AB0A4B2930>\n"
     ]
    }
   ],
   "source": [
    "#connection\n",
    "# pip install mysql-connector-python\n",
    "import mysql.connector\n",
    "\n",
    "mydb = mysql.connector.connect(\n",
    "    host = \"localhost\",\n",
    "    user = \"root\",\n",
    "    password = '123654'\n",
    ")\n",
    "\n",
    "print(mydb)\n"
   ]
  },
  {
   "cell_type": "code",
   "execution_count": 36,
   "metadata": {},
   "outputs": [],
   "source": [
    "mycursor = mydb.cursor()"
   ]
  },
  {
   "cell_type": "code",
   "execution_count": 3,
   "metadata": {},
   "outputs": [],
   "source": [
    "#creating a Database\n",
    "mycursor.execute(\"CREATE DATABASE mydatabase\")"
   ]
  },
  {
   "cell_type": "code",
   "execution_count": 32,
   "metadata": {},
   "outputs": [
    {
     "name": "stdout",
     "output_type": "stream",
     "text": [
      "('information_schema',)\n",
      "('mydatabase',)\n",
      "('mysql',)\n",
      "('performance_schema',)\n",
      "('sakila',)\n",
      "('sys',)\n",
      "('world',)\n"
     ]
    }
   ],
   "source": [
    "# Check if Database Exists\n",
    "mycursor.execute(\"SHOW DATABASES\")\n",
    "for x in mycursor:\n",
    "    print(x)"
   ]
  },
  {
   "cell_type": "code",
   "execution_count": 5,
   "metadata": {},
   "outputs": [],
   "source": [
    "# Or you can try to access the database when making the connection\n",
    "\n",
    "mydb = mysql.connector.connect(\n",
    "    host = \"localhost\", \n",
    "    user = \"root\",\n",
    "    password = \"123654\", \n",
    "    database = \"mydatabase\"\n",
    "    )"
   ]
  },
  {
   "cell_type": "code",
   "execution_count": 8,
   "metadata": {},
   "outputs": [],
   "source": [
    "# Creating a Table\n",
    "\n",
    "mycursor.execute(\"CREATE TABLE customer (name VARCHAR(255), address VARCHAR(255))\")"
   ]
  },
  {
   "cell_type": "code",
   "execution_count": 9,
   "metadata": {},
   "outputs": [
    {
     "name": "stdout",
     "output_type": "stream",
     "text": [
      "('customer',)\n"
     ]
    }
   ],
   "source": [
    "# Check if Table Exists \n",
    "mycursor.execute(\"SHOW TABLES\")\n",
    "\n",
    "for x in mycursor:\n",
    "    print(x)"
   ]
  },
  {
   "cell_type": "code",
   "execution_count": null,
   "metadata": {},
   "outputs": [],
   "source": [
    "# Primary Key\n",
    "# mycursor.execute(\"CREATE TABLE customer(id INT AUTO_INCREMENT PRIMARY KEY, name VARCHAR(255), address VARCHAR(255))\")"
   ]
  },
  {
   "cell_type": "code",
   "execution_count": 10,
   "metadata": {},
   "outputs": [],
   "source": [
    "# If the table already exists, use the ALTER TABLE keyword:\n",
    "\n",
    "mycursor.execute(\"ALTER TABLE customer ADD COLUMN id INT AUTO_INCREMENT PRIMARY KEY\")\n"
   ]
  },
  {
   "cell_type": "code",
   "execution_count": 11,
   "metadata": {},
   "outputs": [
    {
     "name": "stdout",
     "output_type": "stream",
     "text": [
      "1 record inserted.\n"
     ]
    }
   ],
   "source": [
    "# Insert Into Table\n",
    "sql = \"INSERT INTO customer(name, address) VALUE (%s, %s)\"\n",
    "val = (\"Jhon\", \"Highwat 21\")\n",
    "mycursor.execute(sql, val)\n",
    "\n",
    "mydb.commit() # Notice the statement: mydb.commit(). It is required to make the changes, otherwise no changes are made to the table.\n",
    "\n",
    "print(mycursor.rowcount, \"record inserted.\")"
   ]
  },
  {
   "cell_type": "code",
   "execution_count": 12,
   "metadata": {},
   "outputs": [
    {
     "name": "stdout",
     "output_type": "stream",
     "text": [
      "8 was Inserted\n"
     ]
    }
   ],
   "source": [
    "# Insert Multiple Rows\n",
    "# To insert multiple rows into a table, use the executemany() method\n",
    "\n",
    "sql = \"INSERT INTO customer (name, address) VALUES (%s, %s)\"\n",
    "val = [\n",
    "    ('Kamala', \"Lowstreet 4\"),\n",
    "    (\"Any\", \"Apple st 654\"),\n",
    "    (\"Michael\", \"Valley 345\"),\n",
    "    (\"Sandy\", \"Ocean blvd 2\"),\n",
    "    (\"Rajesh\", \"Sky st 331\"),\n",
    "    (\"Susan\", \"Yellow Garden 2\"),\n",
    "    (\"Chuck\", \"Central st 954\"),\n",
    "    (\"Lucky\", \"Main Road 989\")\n",
    "]\n",
    "mycursor.executemany(sql, val)\n",
    "\n",
    "mydb.commit()\n",
    "print(mycursor.rowcount, \"was Inserted\")"
   ]
  },
  {
   "cell_type": "code",
   "execution_count": 13,
   "metadata": {},
   "outputs": [
    {
     "name": "stdout",
     "output_type": "stream",
     "text": [
      "1 record inserted, ID: 10\n"
     ]
    }
   ],
   "source": [
    "# Get Inserted ID\n",
    "# Insert one row, and return the ID:\n",
    "sql = \"INSERT INTO customer (name, address) VALUES (%s, %s)\"\n",
    "val = (\"Michelle\", \"Blue Village\")\n",
    "mycursor.execute(sql, val)\n",
    "print(\"1 record inserted, ID:\",mycursor.lastrowid)\n"
   ]
  },
  {
   "cell_type": "code",
   "execution_count": 14,
   "metadata": {},
   "outputs": [
    {
     "name": "stdout",
     "output_type": "stream",
     "text": [
      "('Jhon', 'Highwat 21', 1)\n",
      "('Kamala', 'Lowstreet 4', 2)\n",
      "('Any', 'Apple st 654', 3)\n",
      "('Michael', 'Valley 345', 4)\n",
      "('Sandy', 'Ocean blvd 2', 5)\n",
      "('Rajesh', 'Sky st 331', 6)\n",
      "('Susan', 'Yellow Garden 2', 7)\n",
      "('Chuck', 'Central st 954', 8)\n",
      "('Lucky', 'Main Road 989', 9)\n",
      "('Michelle', 'Blue Village', 10)\n"
     ]
    }
   ],
   "source": [
    "# Select From a Table\n",
    "mycursor.execute(\"SELECT * FROM customer\")\n",
    "myresult = mycursor.fetchall() #fetchall() method, which fetches all rows from the last executed statement.\n",
    "\n",
    "for x in myresult:\n",
    "    print(x)"
   ]
  },
  {
   "cell_type": "code",
   "execution_count": 15,
   "metadata": {},
   "outputs": [
    {
     "name": "stdout",
     "output_type": "stream",
     "text": [
      "('Jhon', 'Highwat 21')\n",
      "('Kamala', 'Lowstreet 4')\n",
      "('Any', 'Apple st 654')\n",
      "('Michael', 'Valley 345')\n",
      "('Sandy', 'Ocean blvd 2')\n",
      "('Rajesh', 'Sky st 331')\n",
      "('Susan', 'Yellow Garden 2')\n",
      "('Chuck', 'Central st 954')\n",
      "('Lucky', 'Main Road 989')\n",
      "('Michelle', 'Blue Village')\n"
     ]
    }
   ],
   "source": [
    "# Selecting Columns\n",
    "mycursor.execute(\"SELECT  name, address FROM customer\")\n",
    "\n",
    "myresult = mycursor.fetchall()\n",
    "for x in myresult:\n",
    "    print(x)"
   ]
  },
  {
   "cell_type": "code",
   "execution_count": 33,
   "metadata": {},
   "outputs": [
    {
     "name": "stdout",
     "output_type": "stream",
     "text": [
      "('Jhon', 'Highwat 21', 1)\n"
     ]
    }
   ],
   "source": [
    "# Using the fetchone() Method\n",
    "# only interested in one row, you can use the fetchone() method\n",
    "mycursor.execute(\"SELECT * FROM customer\")\n",
    "myresult = mycursor.fetchone()\n",
    "\n",
    "print(myresult)"
   ]
  },
  {
   "cell_type": "code",
   "execution_count": 31,
   "metadata": {},
   "outputs": [
    {
     "name": "stdout",
     "output_type": "stream",
     "text": [
      "('Kamala', 'Lowstreet 4', 2)\n"
     ]
    }
   ],
   "source": [
    "# Select With a Filter\n",
    "# When selecting records from a table, you can filter the selection by using the \"WHERE\" statement\n",
    "import mysql.connector\n",
    "\n",
    "# Establish the database connection\n",
    "mydb = mysql.connector.connect(\n",
    "    host=\"localhost\",\n",
    "    user=\"root\",\n",
    "    password=\"123654\",\n",
    "    database=\"mydatabase\"\n",
    ")\n",
    "\n",
    "mycursor = mydb.cursor()\n",
    "mycursor.execute(\"SHOW FULL PROCESSLIST\")\n",
    "mycursor.fetchall()\n",
    "\n",
    "    # Execute your query\n",
    "mycursor.execute(\"SELECT * FROM customer WHERE name = 'Kamala'\")\n",
    "myresult = mycursor.fetchall()\n",
    "\n",
    "for x in myresult:\n",
    "  print(x)\n"
   ]
  },
  {
   "cell_type": "code",
   "execution_count": 34,
   "metadata": {},
   "outputs": [
    {
     "ename": "InternalError",
     "evalue": "Unread result found",
     "output_type": "error",
     "traceback": [
      "\u001b[1;31m---------------------------------------------------------------------------\u001b[0m",
      "\u001b[1;31mInternalError\u001b[0m                             Traceback (most recent call last)",
      "Cell \u001b[1;32mIn[34], line 4\u001b[0m\n\u001b[0;32m      1\u001b[0m \u001b[38;5;66;03m# Wildcard Characters\u001b[39;00m\n\u001b[0;32m      2\u001b[0m \u001b[38;5;66;03m# Use the %  to represent wildcard characters\u001b[39;00m\n\u001b[1;32m----> 4\u001b[0m mycursor \u001b[38;5;241m=\u001b[39m \u001b[43mmydb\u001b[49m\u001b[38;5;241;43m.\u001b[39;49m\u001b[43mcursor\u001b[49m\u001b[43m(\u001b[49m\u001b[43m)\u001b[49m\n\u001b[0;32m      5\u001b[0m sql \u001b[38;5;241m=\u001b[39m \u001b[38;5;124m\"\u001b[39m\u001b[38;5;124mSELECT * FROM customer WHERE address LIKE \u001b[39m\u001b[38;5;124m'\u001b[39m\u001b[38;5;124m%\u001b[39m\u001b[38;5;124mblvd\u001b[39m\u001b[38;5;124m%\u001b[39m\u001b[38;5;124m'\u001b[39m\u001b[38;5;124m\"\u001b[39m\n\u001b[0;32m      6\u001b[0m mycursor\u001b[38;5;241m.\u001b[39mexecute(sql)\n",
      "File \u001b[1;32mc:\\Users\\KamalaSurapuram\\OneDrive - Accellor\\Documents\\GitHub\\ask-multiple-pdfs-main\\venv\\Lib\\site-packages\\mysql\\connector\\connection_cext.py:770\u001b[0m, in \u001b[0;36mCMySQLConnection.cursor\u001b[1;34m(self, buffered, raw, prepared, cursor_class, dictionary, named_tuple)\u001b[0m\n\u001b[0;32m    733\u001b[0m \u001b[38;5;28;01mdef\u001b[39;00m \u001b[38;5;21mcursor\u001b[39m(\n\u001b[0;32m    734\u001b[0m     \u001b[38;5;28mself\u001b[39m,\n\u001b[0;32m    735\u001b[0m     buffered: Optional[\u001b[38;5;28mbool\u001b[39m] \u001b[38;5;241m=\u001b[39m \u001b[38;5;28;01mNone\u001b[39;00m,\n\u001b[1;32m   (...)\u001b[0m\n\u001b[0;32m    740\u001b[0m     named_tuple: Optional[\u001b[38;5;28mbool\u001b[39m] \u001b[38;5;241m=\u001b[39m \u001b[38;5;28;01mNone\u001b[39;00m,\n\u001b[0;32m    741\u001b[0m ) \u001b[38;5;241m-\u001b[39m\u001b[38;5;241m>\u001b[39m CMySQLCursor:\n\u001b[0;32m    742\u001b[0m \u001b[38;5;250m    \u001b[39m\u001b[38;5;124;03m\"\"\"Instantiates and returns a cursor using C Extension\u001b[39;00m\n\u001b[0;32m    743\u001b[0m \n\u001b[0;32m    744\u001b[0m \u001b[38;5;124;03m    By default, CMySQLCursor is returned. Depending on the options\u001b[39;00m\n\u001b[1;32m   (...)\u001b[0m\n\u001b[0;32m    768\u001b[0m \u001b[38;5;124;03m    :rtype: CMySQLCursor or subclass\u001b[39;00m\n\u001b[0;32m    769\u001b[0m \u001b[38;5;124;03m    \"\"\"\u001b[39;00m\n\u001b[1;32m--> 770\u001b[0m     \u001b[38;5;28;43mself\u001b[39;49m\u001b[38;5;241;43m.\u001b[39;49m\u001b[43mhandle_unread_result\u001b[49m\u001b[43m(\u001b[49m\u001b[43mprepared\u001b[49m\u001b[43m)\u001b[49m\n\u001b[0;32m    771\u001b[0m     \u001b[38;5;28;01mif\u001b[39;00m \u001b[38;5;129;01mnot\u001b[39;00m \u001b[38;5;28mself\u001b[39m\u001b[38;5;241m.\u001b[39mis_connected():\n\u001b[0;32m    772\u001b[0m         \u001b[38;5;28;01mraise\u001b[39;00m OperationalError(\u001b[38;5;124m\"\u001b[39m\u001b[38;5;124mMySQL Connection not available.\u001b[39m\u001b[38;5;124m\"\u001b[39m)\n",
      "File \u001b[1;32mc:\\Users\\KamalaSurapuram\\OneDrive - Accellor\\Documents\\GitHub\\ask-multiple-pdfs-main\\venv\\Lib\\site-packages\\mysql\\connector\\connection_cext.py:1044\u001b[0m, in \u001b[0;36mCMySQLConnection.handle_unread_result\u001b[1;34m(self, prepared)\u001b[0m\n\u001b[0;32m   1042\u001b[0m     \u001b[38;5;28mself\u001b[39m\u001b[38;5;241m.\u001b[39mconsume_results()\n\u001b[0;32m   1043\u001b[0m \u001b[38;5;28;01melif\u001b[39;00m unread_result:\n\u001b[1;32m-> 1044\u001b[0m     \u001b[38;5;28;01mraise\u001b[39;00m InternalError(\u001b[38;5;124m\"\u001b[39m\u001b[38;5;124mUnread result found\u001b[39m\u001b[38;5;124m\"\u001b[39m)\n",
      "\u001b[1;31mInternalError\u001b[0m: Unread result found"
     ]
    }
   ],
   "source": [
    "# Wildcard Characters\n",
    "# Use the %  to represent wildcard characters\n",
    "\n",
    "mycursor = mydb.cursor()\n",
    "sql = \"SELECT * FROM customer WHERE address LIKE '%blvd%'\"\n",
    "mycursor.execute(sql)\n",
    "myresult = mycursor.fetchall()\n",
    "for x in myresult:\n",
    "    print(x)"
   ]
  },
  {
   "cell_type": "code",
   "execution_count": 34,
   "metadata": {},
   "outputs": [
    {
     "name": "stdout",
     "output_type": "stream",
     "text": [
      "('Susan', 'Yellow Garden 2', 7)\n"
     ]
    }
   ],
   "source": [
    "# Prevent SQL Injection\n",
    "# When query values are provided by the user, you should escape the values.\n",
    "# Escape query values by using the placholder %s method:\n",
    "\n",
    "\n",
    "sql1 = \"Select * from customer where address = %s\"\n",
    "adr = (\"Yellow Garden 2\", )\n",
    "\n",
    "mycursor.execute(sql1, adr)\n",
    "\n",
    "myresult = mycursor.fetchall()\n",
    "\n",
    "for x in myresult:\n",
    "    print(x)\n"
   ]
  },
  {
   "cell_type": "code",
   "execution_count": 35,
   "metadata": {},
   "outputs": [
    {
     "name": "stdout",
     "output_type": "stream",
     "text": [
      "('Any', 'Apple st 654', 3)\n",
      "('Chuck', 'Central st 954', 8)\n",
      "('Jhon', 'Highwat 21', 1)\n",
      "('Kamala', 'Lowstreet 4', 2)\n",
      "('Lucky', 'Main Road 989', 9)\n",
      "('Michael', 'Valley 345', 4)\n",
      "('Rajesh', 'Sky st 331', 6)\n",
      "('Sandy', 'Ocean blvd 2', 5)\n",
      "('Susan', 'Yellow Garden 2', 7)\n"
     ]
    }
   ],
   "source": [
    "sql2 = \"SELECT * FROM customer order by name\"\n",
    "\n",
    "mycursor.execute(sql2)\n",
    "\n",
    "myresult = mycursor.fetchall()\n",
    "\n",
    "for x in myresult:\n",
    "    print(x)"
   ]
  },
  {
   "cell_type": "code",
   "execution_count": 40,
   "metadata": {},
   "outputs": [
    {
     "name": "stdout",
     "output_type": "stream",
     "text": [
      "('Susan', 'Yellow Garden 2', 7)\n",
      "('Sandy', 'Ocean blvd 2', 5)\n",
      "('Rajesh', 'Sky st 331', 6)\n",
      "('Michael', 'Valley 345', 4)\n",
      "('Lucky', 'Main Road 989', 9)\n",
      "('Kamala', 'Lowstreet 4', 2)\n",
      "('Jhon', 'Highwat 21', 1)\n",
      "('Chuck', 'Central st 954', 8)\n",
      "('Any', 'Apple st 654', 3)\n"
     ]
    }
   ],
   "source": [
    "# ORDER BY DESC\n",
    "\n",
    "mycursor = mydb.cursor()\n",
    "\n",
    "sql3 = \"SELECT * FROM customer ORDER BY name DESC\"\n",
    "\n",
    "mycursor.execute(sql3)\n",
    "myresult = mycursor.fetchall()\n",
    "\n",
    "for x in myresult:\n",
    "    print(x)"
   ]
  },
  {
   "cell_type": "code",
   "execution_count": null,
   "metadata": {},
   "outputs": [],
   "source": [
    "# Delete Record\n",
    "# You can delete records from an existing table by using the \"DELETE FROM\" statement:\n",
    "# mycursor = mydb.cursor()\n",
    "# sql = \"DELETE FROM customers WHERE address = 'Mountain 21'\"\n",
    "\n",
    "# mycursor.execute(sql)\n",
    "# mydb.commit()\n",
    "\n",
    "# print(mycursor.rowcount, \"record(s) deleted\")\n",
    "import mysql.connector\n",
    "\n",
    "mydb = mysql.connector.connect(\n",
    "  host=\"localhost\",\n",
    "  user=\"root\",\n",
    "  password=\"123654\",\n",
    "  database=\"mydatabase\"\n",
    ")\n",
    "\n",
    "mycursor = mydb.cursor()\n",
    "\n",
    "sql = \"DELETE FROM customer WHERE address = 'Highwat 21'\"\n",
    "\n",
    "mycursor.execute(sql)\n",
    "\n",
    "mydb.commit()\n",
    "\n",
    "print(mycursor.rowcount, \"record(s) deleted\")\n"
   ]
  },
  {
   "cell_type": "code",
   "execution_count": null,
   "metadata": {},
   "outputs": [],
   "source": [
    "# Prevent SQL Injection\n",
    "mycursor = mydb.cursor()\n",
    "\n",
    "sql = \"DELETE from customers where address = %s\"\n",
    "adr = ('Apple st 654',)\n",
    "\n",
    "mycursor.execute(sql, adr)\n",
    "\n",
    "mydb.commit()\n",
    "\n",
    "print(mycursor.rowcount, \"record(s) deleted\")\n"
   ]
  },
  {
   "cell_type": "code",
   "execution_count": null,
   "metadata": {},
   "outputs": [],
   "source": [
    "# Delete a Table\n",
    "\n",
    "# You can delete an existing table by using the \"DROP TABLE\" statement:\n",
    "\n",
    "mycursor = mydb.cursor()\n",
    "\n",
    "sql = \"Drop table customers\"\n",
    "\n",
    "mycursor.execute(sql)\n"
   ]
  },
  {
   "cell_type": "code",
   "execution_count": null,
   "metadata": {},
   "outputs": [],
   "source": [
    "# Drop Only  if Exist \n",
    "\n",
    "mycursor = mydb.cursor()\n",
    "\n",
    "sql = \"DROP TABLE IF EXISTS customers\"\n",
    "\n",
    "mycursor.execute(sql)"
   ]
  },
  {
   "cell_type": "code",
   "execution_count": null,
   "metadata": {},
   "outputs": [],
   "source": [
    "# Update table \n",
    "mycursor = mydb.cursor()\n",
    "\n",
    "sql = \"UPDATE FROM customer set name = 'kamala' where name = 'Kalyani'\"\n",
    "mycursor.execute(sql)\n",
    "\n",
    "mydb.commit()\n",
    "\n",
    "print(mycursor.rowcount,\"recod(s) affected\")\n"
   ]
  },
  {
   "cell_type": "code",
   "execution_count": 45,
   "metadata": {},
   "outputs": [
    {
     "name": "stdout",
     "output_type": "stream",
     "text": [
      "Error: 1205 (HY000): Lock wait timeout exceeded; try restarting transaction\n"
     ]
    }
   ],
   "source": [
    "# Prevent SQL Injection\n",
    "\n",
    "# mycursor.execute(\"UPDATE customer SET address = 'Yellow Garden 2' WHERE address = 'Yellow Garden 3'\")\n",
    "# mydb.commit()\n",
    "import mysql.connector\n",
    "\n",
    "# Establish the database connection\n",
    "mydb = mysql.connector.connect(\n",
    "    host=\"localhost\",\n",
    "    user=\"root\",\n",
    "    password=\"123654\",\n",
    "    database=\"mydatabase\"\n",
    ")\n",
    "\n",
    "mycursor = mydb.cursor()\n",
    "\n",
    "try:\n",
    "    # Execute the update query\n",
    "    mycursor.execute(\"UPDATE customer SET address = 'Yellow Garden 2' WHERE address = 'Yellow Garden 3'\")\n",
    "    \n",
    "    # Commit the changes to the database\n",
    "    mydb.commit()\n",
    "\n",
    "    print(f\"Number of rows affected: {mycursor.rowcount}\")\n",
    "except mysql.connector.Error as err:\n",
    "    print(f\"Error: {err}\")\n",
    "finally:\n",
    "    mycursor.close()\n",
    "    mydb.close()\n"
   ]
  },
  {
   "cell_type": "code",
   "execution_count": 52,
   "metadata": {},
   "outputs": [
    {
     "name": "stdout",
     "output_type": "stream",
     "text": [
      "('Jhon', 'Highwat 21', 1)\n",
      "('Kamala', 'Lowstreet 4', 2)\n",
      "('Any', 'Apple st 654', 3)\n",
      "('Michael', 'Valley 345', 4)\n",
      "('Sandy', 'Ocean blvd 2', 5)\n"
     ]
    }
   ],
   "source": [
    "# MySQL Limit\n",
    "mycursor = mydb.cursor()\n",
    "mycursor.execute(\"SELECT * FROM customer LIMIT 5\")\n",
    "myval = mycursor.fetchall()\n",
    "for x in myval:\n",
    "    print(x)"
   ]
  },
  {
   "cell_type": "code",
   "execution_count": 53,
   "metadata": {},
   "outputs": [
    {
     "name": "stdout",
     "output_type": "stream",
     "text": [
      "('Kamala', 'Lowstreet 4', 2)\n",
      "('Any', 'Apple st 654', 3)\n",
      "('Michael', 'Valley 345', 4)\n",
      "('Sandy', 'Ocean blvd 2', 5)\n",
      "('Rajesh', 'Sky st 331', 6)\n"
     ]
    }
   ],
   "source": [
    "# Start From Another Position\n",
    "mycursor = mydb.cursor()\n",
    "mycursor.execute(\"SELECT * FROM customer LIMIT 5 OFFSET 1\")\n",
    "\n",
    "myresult = mycursor.fetchall()\n",
    "for x in myresult:\n",
    "    print(x)"
   ]
  },
  {
   "cell_type": "code",
   "execution_count": null,
   "metadata": {},
   "outputs": [],
   "source": [
    "# Python MySQL Join\n",
    "# Table1: users\n",
    "    # { id: 1, name: 'John', fav: 154},\n",
    "    # { id: 2, name: 'Peter', fav: 154},\n",
    "    # { id: 3, name: 'Amy', fav: 155},\n",
    "    # { id: 4, name: 'Hannah', fav:},\n",
    "    # { id: 5, name: 'Michael', fav:}\n",
    "#Table2: products\n",
    "    # { id: 154, name: 'Chocolate Heaven' },\n",
    "    # { id: 155, name: 'Tasty Lemons' },\n",
    "    # { id: 156, name: 'Vanilla Dreams' }\n",
    "mycursor = mydb.cursor()\n",
    "\n",
    "sql = \"SELECT \\\n",
    "    users.name as user, \\\n",
    "    products.name as favorite \\\n",
    "    FROM users \\\n",
    "    INNER JOIN products ON users.fav = products.id\"\n",
    "\n",
    "mycursor.execute(sql)\n",
    "\n",
    "myresult = mycursor.fetchall()\n",
    "\n",
    "for x in myresult:\n",
    "    print(x)\n"
   ]
  },
  {
   "cell_type": "code",
   "execution_count": null,
   "metadata": {},
   "outputs": [],
   "source": []
  }
 ],
 "metadata": {
  "kernelspec": {
   "display_name": "Python 3",
   "language": "python",
   "name": "python3"
  },
  "language_info": {
   "codemirror_mode": {
    "name": "ipython",
    "version": 3
   },
   "file_extension": ".py",
   "mimetype": "text/x-python",
   "name": "python",
   "nbconvert_exporter": "python",
   "pygments_lexer": "ipython3",
   "version": "3.12.4"
  }
 },
 "nbformat": 4,
 "nbformat_minor": 2
}
