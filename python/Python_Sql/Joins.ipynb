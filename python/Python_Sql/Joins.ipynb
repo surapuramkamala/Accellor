{
 "cells": [
  {
   "cell_type": "code",
   "execution_count": 38,
   "metadata": {},
   "outputs": [
    {
     "name": "stdout",
     "output_type": "stream",
     "text": [
      "<mysql.connector.connection_cext.CMySQLConnection object at 0x0000023509A53AD0>\n"
     ]
    }
   ],
   "source": [
    "import mysql.connector\n",
    "\n",
    "mydb = mysql.connector.connect(\n",
    "    host = \"localhost\",\n",
    "    user = \"root\",\n",
    "    password = '123654'\n",
    ")\n",
    "\n",
    "print(mydb)"
   ]
  },
  {
   "cell_type": "code",
   "execution_count": 39,
   "metadata": {},
   "outputs": [],
   "source": [
    "mycursor = mydb.cursor()"
   ]
  },
  {
   "cell_type": "code",
   "execution_count": 40,
   "metadata": {},
   "outputs": [],
   "source": [
    "mycursor.execute(\"USE mydatabase\")\n"
   ]
  },
  {
   "cell_type": "code",
   "execution_count": 5,
   "metadata": {},
   "outputs": [],
   "source": [
    "mycursor.execute(\"CREATE TABLE user(id int, name VARCHAR(255), address VARCHAR(255))\")\n"
   ]
  },
  {
   "cell_type": "code",
   "execution_count": 6,
   "metadata": {},
   "outputs": [],
   "source": [
    "mycursor.execute(\"ALTER TABLE user DROP COLUMN id\")"
   ]
  },
  {
   "cell_type": "code",
   "execution_count": 7,
   "metadata": {},
   "outputs": [],
   "source": [
    "mycursor.execute(\"ALTER TABLE user ADD COLUMN id INT AUTO_INCREMENT PRIMARY KEY\")\n"
   ]
  },
  {
   "cell_type": "code",
   "execution_count": null,
   "metadata": {},
   "outputs": [],
   "source": [
    "mycursor = mydb.cursor()\n",
    "sql = \"INSERT INTO user (id, name, address) VALUES (%s, %s, %s)\"\n",
    "\n",
    "# Values to be inserted\n",
    "val = [\n",
    "    (1, \"John\", \"154\"),\n",
    "    (2, \"Peter\", \"155\"),\n",
    "    (3, \"Amy\", \"156\"),\n",
    "    (4, \"Hannah\", \"\"),\n",
    "    (5, \"Michael\", \"\")\n",
    "]\n",
    "\n",
    "mycursor.executemany(sql, val)\n",
    "\n",
    "mydb.commit()\n",
    "\n",
    "print(f\"{mycursor.rowcount} rows were inserted.\")\n"
   ]
  },
  {
   "cell_type": "code",
   "execution_count": 26,
   "metadata": {},
   "outputs": [
    {
     "name": "stdout",
     "output_type": "stream",
     "text": [
      "('John', '154', 1)\n",
      "('Peter', '155', 2)\n",
      "('Amy', '156', 3)\n",
      "('Hannah', '', 4)\n",
      "('Michael', '', 5)\n"
     ]
    }
   ],
   "source": [
    "import mysql.connector\n",
    "\n",
    "# Establish the database connection\n",
    "mydb = mysql.connector.connect(\n",
    "    host=\"localhost\",\n",
    "    user=\"root\",\n",
    "    password=\"123654\",\n",
    "    database=\"mydatabase\"\n",
    ")\n",
    "\n",
    "mycursor = mydb.cursor()\n",
    "\n",
    "try:\n",
    "    # Execute the query\n",
    "    mycursor.execute(\"SELECT * FROM user\")\n",
    "    \n",
    "    # Fetch all results\n",
    "    myresult = mycursor.fetchall()\n",
    "    \n",
    "    # Iterate over the results\n",
    "    for x in myresult:\n",
    "        print(x)\n",
    "except mysql.connector.Error as err:\n",
    "    print(f\"Error: {err}\")\n",
    "finally:\n",
    "    mycursor.close()\n",
    "    mydb.close()\n"
   ]
  },
  {
   "cell_type": "code",
   "execution_count": 33,
   "metadata": {},
   "outputs": [],
   "source": [
    "mycursor = mydb.cursor()\n",
    "mycursor.execute(\"CREATE TABLE products(id int, name VARCHAR(255))\")\n"
   ]
  },
  {
   "cell_type": "code",
   "execution_count": 34,
   "metadata": {},
   "outputs": [
    {
     "name": "stdout",
     "output_type": "stream",
     "text": [
      "3 rows were inserted.\n"
     ]
    }
   ],
   "source": [
    "mycursor = mydb.cursor()\n",
    "sql = \"INSERT INTO products (id, name) VALUES (%s, %s)\"\n",
    "\n",
    "# Values to be inserted\n",
    "val = [\n",
    "    (1, \"Chocolate Heaven\"),\n",
    "    (2, \"Tasty Lemons\"),\n",
    "    (3, \"Vanilla Dreams\"),\n",
    "]\n",
    "\n",
    "mycursor.executemany(sql, val)\n",
    "\n",
    "mydb.commit()\n",
    "\n",
    "print(f\"{mycursor.rowcount} rows were inserted.\")\n"
   ]
  },
  {
   "cell_type": "code",
   "execution_count": 35,
   "metadata": {},
   "outputs": [
    {
     "name": "stdout",
     "output_type": "stream",
     "text": [
      "(1, 'Chocolate Heaven')\n",
      "(2, 'Tasty Lemons')\n",
      "(3, 'Vanilla Dreams')\n"
     ]
    }
   ],
   "source": [
    "import mysql.connector\n",
    "\n",
    "# Establish the database connection\n",
    "mydb = mysql.connector.connect(\n",
    "    host=\"localhost\",\n",
    "    user=\"root\",\n",
    "    password=\"123654\",\n",
    "    database=\"mydatabase\"\n",
    ")\n",
    "\n",
    "mycursor = mydb.cursor()\n",
    "\n",
    "try:\n",
    "    # Execute the query\n",
    "    mycursor.execute(\"SELECT * FROM products\")\n",
    "    \n",
    "    # Fetch all results\n",
    "    myresult = mycursor.fetchall()\n",
    "    \n",
    "    # Iterate over the results\n",
    "    for x in myresult:\n",
    "        print(x)\n",
    "except mysql.connector.Error as err:\n",
    "    print(f\"Error: {err}\")\n",
    "finally:\n",
    "    mycursor.close()\n",
    "    mydb.close()\n"
   ]
  },
  {
   "cell_type": "code",
   "execution_count": 43,
   "metadata": {},
   "outputs": [
    {
     "name": "stdout",
     "output_type": "stream",
     "text": [
      "('John', 'Chocolate Heaven')\n",
      "('Peter', 'Tasty Lemons')\n",
      "('Amy', 'Vanilla Dreams')\n"
     ]
    }
   ],
   "source": [
    "mycursor = mydb.cursor()\n",
    "sql1 = \"SELECT \\\n",
    "    user.name as user, \\\n",
    "    products.name as favorite\\\n",
    "    from user \\\n",
    "    INNER JOIN products ON user.id = products.id\"\n",
    "mycursor.execute(sql1)\n",
    "myresult = mycursor.fetchall()\n",
    "\n",
    "for x in myresult:\n",
    "    print(x)"
   ]
  },
  {
   "cell_type": "code",
   "execution_count": 44,
   "metadata": {},
   "outputs": [
    {
     "name": "stdout",
     "output_type": "stream",
     "text": [
      "('John', 'Chocolate Heaven')\n",
      "('Peter', 'Tasty Lemons')\n",
      "('Amy', 'Vanilla Dreams')\n",
      "('Hannah', None)\n",
      "('Michael', None)\n"
     ]
    }
   ],
   "source": [
    "# LEFT JOIN\n",
    "\n",
    "mycursor = mydb.cursor()\n",
    "sql1 = \"SELECT \\\n",
    "    user.name as user, \\\n",
    "    products.name as favorite\\\n",
    "    from user \\\n",
    "    LEFT JOIN products ON user.id = products.id\"\n",
    "mycursor.execute(sql1)\n",
    "myresult = mycursor.fetchall()\n",
    "\n",
    "for x in myresult:\n",
    "    print(x)"
   ]
  },
  {
   "cell_type": "code",
   "execution_count": 45,
   "metadata": {},
   "outputs": [
    {
     "name": "stdout",
     "output_type": "stream",
     "text": [
      "('John', 'Chocolate Heaven')\n",
      "('Peter', 'Tasty Lemons')\n",
      "('Amy', 'Vanilla Dreams')\n"
     ]
    }
   ],
   "source": [
    "mycursor = mydb.cursor()\n",
    "sql1 = \"SELECT \\\n",
    "    user.name as user, \\\n",
    "    products.name as favorite\\\n",
    "    from user \\\n",
    "    RIGHT JOIN products ON user.id = products.id\"\n",
    "mycursor.execute(sql1)\n",
    "myresult = mycursor.fetchall()\n",
    "\n",
    "for x in myresult:\n",
    "    print(x)"
   ]
  },
  {
   "cell_type": "code",
   "execution_count": 48,
   "metadata": {},
   "outputs": [
    {
     "name": "stdout",
     "output_type": "stream",
     "text": [
      "('John', 'Chocolate Heaven')\n",
      "('Peter', 'Tasty Lemons')\n",
      "('Amy', 'Vanilla Dreams')\n"
     ]
    }
   ],
   "source": [
    "mycursor = mydb.cursor()\n",
    "sql1 = \"\"\"SELECT \n",
    "    user.name as user, \n",
    "    products.name as favorite\n",
    "    from user \n",
    "    cross JOIN products ON user.id = products.id\"\"\"\n",
    "mycursor.execute(sql1)\n",
    "myresult = mycursor.fetchall()\n",
    "\n",
    "for x in myresult:\n",
    "    print(x)"
   ]
  },
  {
   "cell_type": "code",
   "execution_count": 50,
   "metadata": {},
   "outputs": [
    {
     "name": "stdout",
     "output_type": "stream",
     "text": [
      "('John', '154', 1, 1, 'Chocolate Heaven')\n",
      "('Peter', '155', 2, 2, 'Tasty Lemons')\n",
      "('Amy', '156', 3, 3, 'Vanilla Dreams')\n",
      "('Hannah', '', 4, None, None)\n",
      "('Michael', '', 5, None, None)\n"
     ]
    }
   ],
   "source": [
    "#Union ->full join\n",
    "mycursor = mydb.cursor()\n",
    "sql1 = \"\"\"SELECT * FROM user \n",
    "    LEFT JOIN products ON user.id = products.id\n",
    "    UNION \n",
    "    SELECT * FROM user \n",
    "    RIGHT JOIN products ON user.id = products.id\"\"\"\n",
    "mycursor.execute(sql1)\n",
    "myresult = mycursor.fetchall()\n",
    "\n",
    "for x in myresult:\n",
    "    print(x)"
   ]
  },
  {
   "cell_type": "code",
   "execution_count": null,
   "metadata": {},
   "outputs": [],
   "source": []
  }
 ],
 "metadata": {
  "kernelspec": {
   "display_name": "Python 3",
   "language": "python",
   "name": "python3"
  },
  "language_info": {
   "codemirror_mode": {
    "name": "ipython",
    "version": 3
   },
   "file_extension": ".py",
   "mimetype": "text/x-python",
   "name": "python",
   "nbconvert_exporter": "python",
   "pygments_lexer": "ipython3",
   "version": "3.12.4"
  }
 },
 "nbformat": 4,
 "nbformat_minor": 2
}
