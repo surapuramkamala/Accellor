{
 "cells": [
  {
   "cell_type": "code",
   "execution_count": 1,
   "metadata": {},
   "outputs": [
    {
     "name": "stdout",
     "output_type": "stream",
     "text": [
      "(1, array([0, 0, 0], dtype=int32))\n"
     ]
    }
   ],
   "source": [
    "# Graphs\n",
    "# Adjacency Matrix\n",
    "# Connected Components\n",
    "import numpy as np\n",
    "from scipy.sparse.csgraph import connected_components\n",
    "from scipy.sparse import csr_matrix\n",
    "\n",
    "arr = np.array([\n",
    "  [0, 1, 2],\n",
    "  [1, 0, 0],\n",
    "  [2, 0, 0]\n",
    "])\n",
    "\n",
    "newarr = csr_matrix(arr)\n",
    "\n",
    "print(connected_components(newarr))\n"
   ]
  },
  {
   "cell_type": "code",
   "execution_count": 2,
   "metadata": {},
   "outputs": [
    {
     "name": "stdout",
     "output_type": "stream",
     "text": [
      "(array([0., 1., 2.]), array([-9999,     0,     0], dtype=int32))\n"
     ]
    }
   ],
   "source": [
    "# Dijkstra\n",
    "# dijkstra method to find the shortest path in a graph\n",
    "import numpy as np\n",
    "from scipy.sparse.csgraph import dijkstra\n",
    "from scipy.sparse import csr_matrix\n",
    "\n",
    "arr = np.array([\n",
    "  [0, 1, 2],\n",
    "  [1, 0, 0],\n",
    "  [2, 0, 0]\n",
    "])\n",
    "\n",
    "newarr = csr_matrix(arr)\n",
    "\n",
    "print(dijkstra(newarr, return_predecessors=True, indices=0))\n"
   ]
  },
  {
   "cell_type": "code",
   "execution_count": 3,
   "metadata": {},
   "outputs": [
    {
     "name": "stdout",
     "output_type": "stream",
     "text": [
      "(array([[0., 1., 2.],\n",
      "       [1., 0., 3.],\n",
      "       [2., 3., 0.]]), array([[-9999,     0,     0],\n",
      "       [    1, -9999,     0],\n",
      "       [    2,     0, -9999]], dtype=int32))\n"
     ]
    }
   ],
   "source": [
    "# Floyd Warshall ->find shortest path between all pairs of elements.\n",
    "import numpy as np\n",
    "from scipy.sparse.csgraph import floyd_warshall\n",
    "from scipy.sparse import csr_matrix\n",
    "\n",
    "arr = np.array([\n",
    "  [0, 1, 2],\n",
    "  [1, 0, 0],\n",
    "  [2, 0, 0]\n",
    "])\n",
    "\n",
    "newarr = csr_matrix(arr)\n",
    "\n",
    "print(floyd_warshall(newarr, return_predecessors=True))\n"
   ]
  },
  {
   "cell_type": "code",
   "execution_count": 4,
   "metadata": {},
   "outputs": [
    {
     "name": "stdout",
     "output_type": "stream",
     "text": [
      "(array([ 0., -1.,  2.]), array([-9999,     0,     0], dtype=int32))\n"
     ]
    }
   ],
   "source": [
    "# Bellman Ford -> same as Floyd Warshall, but this method can handle ngative weights as well\n",
    "import numpy as np\n",
    "from scipy.sparse.csgraph import bellman_ford\n",
    "from scipy.sparse import csr_matrix\n",
    "\n",
    "arr = np.array([\n",
    "  [0, -1, 2],\n",
    "  [1, 0, 0],\n",
    "  [2, 0, 0]\n",
    "])\n",
    "\n",
    "newarr = csr_matrix(arr)\n",
    "\n",
    "print(bellman_ford(newarr, return_predecessors=True, indices=0))\n"
   ]
  },
  {
   "cell_type": "code",
   "execution_count": 5,
   "metadata": {},
   "outputs": [
    {
     "name": "stdout",
     "output_type": "stream",
     "text": [
      "(array([1, 0, 3, 2], dtype=int32), array([    1, -9999,     1,     0], dtype=int32))\n"
     ]
    }
   ],
   "source": [
    "# Depth First Order -> depth_first_order() method returns a depth first traversal from a node.\n",
    "\n",
    "import numpy as np\n",
    "from scipy.sparse.csgraph import depth_first_order\n",
    "from scipy.sparse import csr_matrix\n",
    "\n",
    "arr = np.array([\n",
    "  [0, 1, 0, 1],\n",
    "  [1, 1, 1, 1],\n",
    "  [2, 1, 1, 0],\n",
    "  [0, 1, 0, 1]\n",
    "])\n",
    "\n",
    "newarr = csr_matrix(arr)\n",
    "\n",
    "print(depth_first_order(newarr, 1))\n"
   ]
  },
  {
   "cell_type": "code",
   "execution_count": 6,
   "metadata": {},
   "outputs": [
    {
     "name": "stdout",
     "output_type": "stream",
     "text": [
      "(array([1, 0, 2, 3], dtype=int32), array([    1, -9999,     1,     1], dtype=int32))\n"
     ]
    }
   ],
   "source": [
    "# Breadth First Order ->returns a breadth first traversal from a node.\n",
    "import numpy as np\n",
    "from scipy.sparse.csgraph import breadth_first_order\n",
    "from scipy.sparse import csr_matrix\n",
    "\n",
    "arr = np.array([\n",
    "  [0, 1, 0, 1],\n",
    "  [1, 1, 1, 1],\n",
    "  [2, 1, 1, 0],\n",
    "  [0, 1, 0, 1]\n",
    "])\n",
    "\n",
    "newarr = csr_matrix(arr)\n",
    "\n",
    "print(breadth_first_order(newarr, 1))\n",
    "\n"
   ]
  }
 ],
 "metadata": {
  "kernelspec": {
   "display_name": "Python 3",
   "language": "python",
   "name": "python3"
  },
  "language_info": {
   "codemirror_mode": {
    "name": "ipython",
    "version": 3
   },
   "file_extension": ".py",
   "mimetype": "text/x-python",
   "name": "python",
   "nbconvert_exporter": "python",
   "pygments_lexer": "ipython3",
   "version": "3.12.4"
  }
 },
 "nbformat": 4,
 "nbformat_minor": 2
}
