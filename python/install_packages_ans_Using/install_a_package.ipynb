{
 "cells": [
  {
   "cell_type": "code",
   "execution_count": 1,
   "metadata": {},
   "outputs": [
    {
     "name": "stdout",
     "output_type": "stream",
     "text": [
      "Requirement already satisfied: python-dateutil in c:\\users\\kamalasurapuram\\appdata\\roaming\\python\\python312\\site-packages (2.9.0.post0)\n",
      "Requirement already satisfied: six>=1.5 in c:\\users\\kamalasurapuram\\appdata\\roaming\\python\\python312\\site-packages (from python-dateutil) (1.16.0)\n",
      "Note: you may need to restart the kernel to use updated packages.\n"
     ]
    },
    {
     "name": "stderr",
     "output_type": "stream",
     "text": [
      "\n",
      "[notice] A new release of pip is available: 24.0 -> 24.1.2\n",
      "[notice] To update, run: python.exe -m pip install --upgrade pip\n"
     ]
    }
   ],
   "source": [
    "pip install python-dateutil"
   ]
  },
  {
   "cell_type": "code",
   "execution_count": 3,
   "metadata": {},
   "outputs": [
    {
     "name": "stdout",
     "output_type": "stream",
     "text": [
      "Requirement already satisfied: pip in c:\\users\\kamalasurapuram\\appdata\\local\\programs\\python\\python312\\lib\\site-packages (24.0)\n",
      "Collecting pip\n",
      "  Downloading pip-24.1.2-py3-none-any.whl.metadata (3.6 kB)\n",
      "Downloading pip-24.1.2-py3-none-any.whl (1.8 MB)\n",
      "   ---------------------------------------- 0.0/1.8 MB ? eta -:--:--\n",
      "   ---------------------------------------- 0.0/1.8 MB ? eta -:--:--\n",
      "   ---------------------------------------- 0.0/1.8 MB ? eta -:--:--\n",
      "    --------------------------------------- 0.0/1.8 MB 435.7 kB/s eta 0:00:05\n",
      "   - -------------------------------------- 0.1/1.8 MB 762.6 kB/s eta 0:00:03\n",
      "   ----- ---------------------------------- 0.3/1.8 MB 1.6 MB/s eta 0:00:01\n",
      "   ----------- ---------------------------- 0.5/1.8 MB 2.6 MB/s eta 0:00:01\n",
      "   ---------------------- ----------------- 1.0/1.8 MB 4.4 MB/s eta 0:00:01\n",
      "   ------------------------------------- -- 1.7/1.8 MB 5.7 MB/s eta 0:00:01\n",
      "   ---------------------------------------- 1.8/1.8 MB 5.5 MB/s eta 0:00:00\n",
      "Installing collected packages: pip\n",
      "  Attempting uninstall: pip\n",
      "    Found existing installation: pip 24.0\n",
      "    Uninstalling pip-24.0:\n",
      "      Successfully uninstalled pip-24.0\n",
      "Successfully installed pip-24.1.2\n",
      "Note: you may need to restart the kernel to use updated packages.\n"
     ]
    }
   ],
   "source": [
    "pip install --upgrade pip"
   ]
  },
  {
   "cell_type": "markdown",
   "metadata": {},
   "source": [
    "Use an installed package"
   ]
  },
  {
   "cell_type": "code",
   "execution_count": 6,
   "metadata": {},
   "outputs": [
    {
     "name": "stdout",
     "output_type": "stream",
     "text": [
      "2024-07-22 12:09:38.248677\n",
      "2024-08-29 10:09:38.248677\n"
     ]
    }
   ],
   "source": [
    "from datetime import *\n",
    "from dateutil.relativedelta import *\n",
    "now = datetime.now()\n",
    "print(now)\n",
    "\n",
    "now = now + relativedelta(months = 1, weeks = 1, hour = 10)\n",
    "print(now)"
   ]
  },
  {
   "cell_type": "code",
   "execution_count": 9,
   "metadata": {},
   "outputs": [
    {
     "name": "stdout",
     "output_type": "stream",
     "text": [
      "aiohttp==3.9.5\n",
      "aiosignal==1.3.1\n",
      "asttokens==2.4.1\n",
      "attrs==23.2.0\n",
      "colorama==0.4.6\n",
      "comm==0.2.2\n",
      "debugpy==1.8.2\n",
      "decorator==5.1.1\n",
      "discord==2.3.2\n",
      "discord.py==2.4.0\n",
      "executing==2.0.1\n",
      "frozenlist==1.4.1\n",
      "idna==3.7\n",
      "ipykernel==6.29.5\n",
      "ipython==8.26.0\n",
      "jedi==0.19.1\n",
      "jupyter_client==8.6.2\n",
      "jupyter_core==5.7.2\n",
      "matplotlib-inline==0.1.7\n",
      "multidict==6.0.5\n",
      "nest-asyncio==1.6.0\n",
      "packaging==24.1\n",
      "parso==0.8.4\n",
      "platformdirs==4.2.2\n",
      "prompt_toolkit==3.0.47\n",
      "psutil==6.0.0\n",
      "pure-eval==0.2.2\n",
      "Pygments==2.18.0\n",
      "python-dateutil==2.9.0.post0\n",
      "pywin32==306\n",
      "pyzmq==26.0.3\n",
      "six==1.16.0\n",
      "stack-data==0.6.3\n",
      "tornado==6.4.1\n",
      "traitlets==5.14.3\n",
      "wcwidth==0.2.13\n",
      "yarl==1.9.4\n",
      "Note: you may need to restart the kernel to use updated packages.\n"
     ]
    }
   ],
   "source": [
    "pip freeze"
   ]
  },
  {
   "cell_type": "code",
   "execution_count": 8,
   "metadata": {},
   "outputs": [
    {
     "name": "stdout",
     "output_type": "stream",
     "text": [
      "Requirement already satisfied: python-dateutil in c:\\users\\kamalasurapuram\\appdata\\roaming\\python\\python312\\site-packages (2.9.0.post0)\n",
      "Requirement already satisfied: six>=1.5 in c:\\users\\kamalasurapuram\\appdata\\roaming\\python\\python312\\site-packages (from python-dateutil) (1.16.0)\n",
      "Note: you may need to restart the kernel to use updated packages.\n"
     ]
    }
   ],
   "source": [
    "pip install python-dateutil"
   ]
  },
  {
   "cell_type": "code",
   "execution_count": 2,
   "metadata": {},
   "outputs": [
    {
     "name": "stdout",
     "output_type": "stream",
     "text": [
      "aiohttp==3.9.5\n",
      "aiosignal==1.3.1\n",
      "asttokens==2.4.1\n",
      "attrs==23.2.0\n",
      "colorama==0.4.6\n",
      "comm==0.2.2\n",
      "debugpy==1.8.2\n",
      "decorator==5.1.1\n",
      "discord==2.3.2\n",
      "discord.py==2.4.0\n",
      "executing==2.0.1\n",
      "frozenlist==1.4.1\n",
      "idna==3.7\n",
      "ipykernel==6.29.5\n",
      "ipython==8.26.0\n",
      "jedi==0.19.1\n",
      "jupyter_client==8.6.2\n",
      "jupyter_core==5.7.2\n",
      "matplotlib-inline==0.1.7\n",
      "multidict==6.0.5\n",
      "nest-asyncio==1.6.0\n",
      "packaging==24.1\n",
      "parso==0.8.4\n",
      "platformdirs==4.2.2\n",
      "prompt_toolkit==3.0.47\n",
      "psutil==6.0.0\n",
      "pure-eval==0.2.2\n",
      "Pygments==2.18.0\n",
      "python-dateutil==2.9.0.post0\n",
      "pywin32==306\n",
      "pyzmq==26.0.3\n",
      "six==1.16.0\n",
      "stack-data==0.6.3\n",
      "tornado==6.4.1\n",
      "traitlets==5.14.3\n",
      "wcwidth==0.2.13\n",
      "yarl==1.9.4\n",
      "Note: you may need to restart the kernel to use updated packages.\n"
     ]
    }
   ],
   "source": [
    "pip freeze "
   ]
  },
  {
   "cell_type": "code",
   "execution_count": 4,
   "metadata": {},
   "outputs": [
    {
     "name": "stdout",
     "output_type": "stream",
     "text": [
      "Requirement already satisfied: aiohttp==3.9.5 in c:\\users\\kamalasurapuram\\appdata\\local\\programs\\python\\python312\\lib\\site-packages (from -r requirements.txt (line 1)) (3.9.5)\n",
      "Requirement already satisfied: aiosignal==1.3.1 in c:\\users\\kamalasurapuram\\appdata\\local\\programs\\python\\python312\\lib\\site-packages (from -r requirements.txt (line 2)) (1.3.1)\n",
      "Requirement already satisfied: asttokens==2.4.1 in c:\\users\\kamalasurapuram\\appdata\\roaming\\python\\python312\\site-packages (from -r requirements.txt (line 3)) (2.4.1)\n",
      "Requirement already satisfied: attrs==23.2.0 in c:\\users\\kamalasurapuram\\appdata\\local\\programs\\python\\python312\\lib\\site-packages (from -r requirements.txt (line 4)) (23.2.0)\n",
      "Requirement already satisfied: colorama==0.4.6 in c:\\users\\kamalasurapuram\\appdata\\roaming\\python\\python312\\site-packages (from -r requirements.txt (line 5)) (0.4.6)\n",
      "Requirement already satisfied: comm==0.2.2 in c:\\users\\kamalasurapuram\\appdata\\roaming\\python\\python312\\site-packages (from -r requirements.txt (line 6)) (0.2.2)\n",
      "Requirement already satisfied: debugpy==1.8.2 in c:\\users\\kamalasurapuram\\appdata\\roaming\\python\\python312\\site-packages (from -r requirements.txt (line 7)) (1.8.2)\n",
      "Requirement already satisfied: decorator==5.1.1 in c:\\users\\kamalasurapuram\\appdata\\roaming\\python\\python312\\site-packages (from -r requirements.txt (line 8)) (5.1.1)\n",
      "Requirement already satisfied: discord==2.3.2 in c:\\users\\kamalasurapuram\\appdata\\local\\programs\\python\\python312\\lib\\site-packages (from -r requirements.txt (line 9)) (2.3.2)\n",
      "Requirement already satisfied: discord.py==2.4.0 in c:\\users\\kamalasurapuram\\appdata\\local\\programs\\python\\python312\\lib\\site-packages (from -r requirements.txt (line 10)) (2.4.0)\n",
      "Requirement already satisfied: executing==2.0.1 in c:\\users\\kamalasurapuram\\appdata\\roaming\\python\\python312\\site-packages (from -r requirements.txt (line 11)) (2.0.1)\n",
      "Requirement already satisfied: frozenlist==1.4.1 in c:\\users\\kamalasurapuram\\appdata\\local\\programs\\python\\python312\\lib\\site-packages (from -r requirements.txt (line 12)) (1.4.1)\n",
      "Requirement already satisfied: idna==3.7 in c:\\users\\kamalasurapuram\\appdata\\local\\programs\\python\\python312\\lib\\site-packages (from -r requirements.txt (line 13)) (3.7)\n",
      "Requirement already satisfied: ipykernel==6.29.5 in c:\\users\\kamalasurapuram\\appdata\\roaming\\python\\python312\\site-packages (from -r requirements.txt (line 14)) (6.29.5)\n",
      "Requirement already satisfied: ipython==8.26.0 in c:\\users\\kamalasurapuram\\appdata\\roaming\\python\\python312\\site-packages (from -r requirements.txt (line 15)) (8.26.0)\n",
      "Requirement already satisfied: jedi==0.19.1 in c:\\users\\kamalasurapuram\\appdata\\roaming\\python\\python312\\site-packages (from -r requirements.txt (line 16)) (0.19.1)\n",
      "Requirement already satisfied: jupyter_client==8.6.2 in c:\\users\\kamalasurapuram\\appdata\\roaming\\python\\python312\\site-packages (from -r requirements.txt (line 17)) (8.6.2)\n",
      "Requirement already satisfied: jupyter_core==5.7.2 in c:\\users\\kamalasurapuram\\appdata\\roaming\\python\\python312\\site-packages (from -r requirements.txt (line 18)) (5.7.2)\n",
      "Requirement already satisfied: matplotlib-inline==0.1.7 in c:\\users\\kamalasurapuram\\appdata\\roaming\\python\\python312\\site-packages (from -r requirements.txt (line 19)) (0.1.7)\n",
      "Requirement already satisfied: multidict==6.0.5 in c:\\users\\kamalasurapuram\\appdata\\local\\programs\\python\\python312\\lib\\site-packages (from -r requirements.txt (line 20)) (6.0.5)\n",
      "Requirement already satisfied: nest-asyncio==1.6.0 in c:\\users\\kamalasurapuram\\appdata\\roaming\\python\\python312\\site-packages (from -r requirements.txt (line 21)) (1.6.0)\n",
      "Requirement already satisfied: packaging==24.1 in c:\\users\\kamalasurapuram\\appdata\\roaming\\python\\python312\\site-packages (from -r requirements.txt (line 22)) (24.1)\n",
      "Requirement already satisfied: parso==0.8.4 in c:\\users\\kamalasurapuram\\appdata\\roaming\\python\\python312\\site-packages (from -r requirements.txt (line 23)) (0.8.4)\n",
      "Requirement already satisfied: platformdirs==4.2.2 in c:\\users\\kamalasurapuram\\appdata\\roaming\\python\\python312\\site-packages (from -r requirements.txt (line 24)) (4.2.2)\n",
      "Requirement already satisfied: prompt_toolkit==3.0.47 in c:\\users\\kamalasurapuram\\appdata\\roaming\\python\\python312\\site-packages (from -r requirements.txt (line 25)) (3.0.47)\n",
      "Requirement already satisfied: psutil==6.0.0 in c:\\users\\kamalasurapuram\\appdata\\roaming\\python\\python312\\site-packages (from -r requirements.txt (line 26)) (6.0.0)\n",
      "Requirement already satisfied: pure-eval==0.2.2 in c:\\users\\kamalasurapuram\\appdata\\roaming\\python\\python312\\site-packages (from -r requirements.txt (line 27)) (0.2.2)\n",
      "Requirement already satisfied: Pygments==2.18.0 in c:\\users\\kamalasurapuram\\appdata\\roaming\\python\\python312\\site-packages (from -r requirements.txt (line 28)) (2.18.0)\n",
      "Requirement already satisfied: python-dateutil==2.9.0.post0 in c:\\users\\kamalasurapuram\\appdata\\roaming\\python\\python312\\site-packages (from -r requirements.txt (line 29)) (2.9.0.post0)\n",
      "Requirement already satisfied: pywin32==306 in c:\\users\\kamalasurapuram\\appdata\\roaming\\python\\python312\\site-packages (from -r requirements.txt (line 30)) (306)\n",
      "Requirement already satisfied: pyzmq==26.0.3 in c:\\users\\kamalasurapuram\\appdata\\roaming\\python\\python312\\site-packages (from -r requirements.txt (line 31)) (26.0.3)\n",
      "Requirement already satisfied: six==1.16.0 in c:\\users\\kamalasurapuram\\appdata\\roaming\\python\\python312\\site-packages (from -r requirements.txt (line 32)) (1.16.0)\n",
      "Requirement already satisfied: stack-data==0.6.3 in c:\\users\\kamalasurapuram\\appdata\\roaming\\python\\python312\\site-packages (from -r requirements.txt (line 33)) (0.6.3)\n",
      "Requirement already satisfied: tornado==6.4.1 in c:\\users\\kamalasurapuram\\appdata\\roaming\\python\\python312\\site-packages (from -r requirements.txt (line 34)) (6.4.1)\n",
      "Requirement already satisfied: traitlets==5.14.3 in c:\\users\\kamalasurapuram\\appdata\\roaming\\python\\python312\\site-packages (from -r requirements.txt (line 35)) (5.14.3)\n",
      "Requirement already satisfied: wcwidth==0.2.13 in c:\\users\\kamalasurapuram\\appdata\\roaming\\python\\python312\\site-packages (from -r requirements.txt (line 36)) (0.2.13)\n",
      "Requirement already satisfied: yarl==1.9.4 in c:\\users\\kamalasurapuram\\appdata\\local\\programs\\python\\python312\\lib\\site-packages (from -r requirements.txt (line 37)) (1.9.4)\n",
      "Note: you may need to restart the kernel to use updated packages.\n"
     ]
    }
   ],
   "source": [
    "pip install -r requirements.txt"
   ]
  },
  {
   "cell_type": "code",
   "execution_count": 5,
   "metadata": {},
   "outputs": [
    {
     "name": "stdout",
     "output_type": "stream",
     "text": [
      "Collecting python-dateutil==1.4\n",
      "  Downloading python-dateutil-1.4.tar.gz (225 kB)\n",
      "     ---------------------------------------- 0.0/225.4 kB ? eta -:--:--\n",
      "     ------------------ ------------------- 112.6/225.4 kB 2.2 MB/s eta 0:00:01\n",
      "     -------------------------------------- 225.4/225.4 kB 3.4 MB/s eta 0:00:00\n",
      "  Installing build dependencies: started\n",
      "  Installing build dependencies: finished with status 'done'\n",
      "  Getting requirements to build wheel: started\n",
      "  Getting requirements to build wheel: finished with status 'done'\n",
      "  Preparing metadata (pyproject.toml): started\n",
      "  Preparing metadata (pyproject.toml): finished with status 'done'\n",
      "Building wheels for collected packages: python-dateutil\n",
      "  Building wheel for python-dateutil (pyproject.toml): started\n",
      "  Building wheel for python-dateutil (pyproject.toml): finished with status 'done'\n",
      "  Created wheel for python-dateutil: filename=python_dateutil-1.4-py3-none-any.whl size=194256 sha256=bc8729091b277f3cc57c5d95ef765d64c847995d153624f6f2ff581f1543d9b2\n",
      "  Stored in directory: c:\\users\\kamalasurapuram\\appdata\\local\\pip\\cache\\wheels\\12\\7c\\66\\bd40d448c1246b200859d0a6db2126f2a949e820ef618a0ef4\n",
      "Successfully built python-dateutil\n",
      "Installing collected packages: python-dateutil\n",
      "  Attempting uninstall: python-dateutil\n",
      "    Found existing installation: python-dateutil 2.9.0.post0\n",
      "    Uninstalling python-dateutil-2.9.0.post0:\n",
      "      Successfully uninstalled python-dateutil-2.9.0.post0\n",
      "Successfully installed python-dateutil-1.4\n",
      "Note: you may need to restart the kernel to use updated packages.\n"
     ]
    },
    {
     "name": "stderr",
     "output_type": "stream",
     "text": [
      "ERROR: pip's dependency resolver does not currently take into account all the packages that are installed. This behaviour is the source of the following dependency conflicts.\n",
      "jupyter-client 8.6.2 requires python-dateutil>=2.8.2, but you have python-dateutil 1.4 which is incompatible.\n"
     ]
    }
   ],
   "source": [
    "# Install the latest version\n",
    "pip install python-dateutil==1.4\n"
   ]
  },
  {
   "cell_type": "code",
   "execution_count": 7,
   "metadata": {},
   "outputs": [
    {
     "name": "stdout",
     "output_type": "stream",
     "text": [
      "Note: you may need to restart the kernel to use updated packages.\n"
     ]
    },
    {
     "name": "stderr",
     "output_type": "stream",
     "text": [
      "ERROR: Invalid requirement: 'python-dateutil==randomwords': Expected end or semicolon (after name and no valid version specifier)\n",
      "    python-dateutil==randomwords\n",
      "                   ^\n"
     ]
    }
   ],
   "source": [
    "pip install python-dateutil==randomwords"
   ]
  },
  {
   "cell_type": "code",
   "execution_count": 8,
   "metadata": {},
   "outputs": [
    {
     "name": "stdout",
     "output_type": "stream",
     "text": [
      "aiohttp==3.9.5\n",
      "aiosignal==1.3.1\n",
      "asttokens==2.4.1\n",
      "attrs==23.2.0\n",
      "colorama==0.4.6\n",
      "comm==0.2.2\n",
      "debugpy==1.8.2\n",
      "decorator==5.1.1\n",
      "discord==2.3.2\n",
      "discord.py==2.4.0\n",
      "executing==2.0.1\n",
      "frozenlist==1.4.1\n",
      "idna==3.7\n",
      "ipykernel==6.29.5\n",
      "ipython==8.26.0\n",
      "jedi==0.19.1\n",
      "jupyter_client==8.6.2\n",
      "jupyter_core==5.7.2\n",
      "matplotlib-inline==0.1.7\n",
      "multidict==6.0.5\n",
      "nest-asyncio==1.6.0\n",
      "packaging==24.1\n",
      "parso==0.8.4\n",
      "platformdirs==4.2.2\n",
      "prompt_toolkit==3.0.47\n",
      "psutil==6.0.0\n",
      "pure-eval==0.2.2\n",
      "Pygments==2.18.0\n",
      "python-dateutil==1.4\n",
      "pywin32==306\n",
      "pyzmq==26.0.3\n",
      "six==1.16.0\n",
      "stack-data==0.6.3\n",
      "tornado==6.4.1\n",
      "traitlets==5.14.3\n",
      "wcwidth==0.2.13\n",
      "yarl==1.9.4\n",
      "Note: you may need to restart the kernel to use updated packages.\n"
     ]
    }
   ],
   "source": [
    "pip freeze python-dateutil"
   ]
  },
  {
   "cell_type": "code",
   "execution_count": null,
   "metadata": {},
   "outputs": [],
   "source": [
    "# Upgrade a package.\n",
    "pip install <name of package> --upgrade\n"
   ]
  },
  {
   "cell_type": "markdown",
   "metadata": {},
   "source": [
    "<!-- Clean up unused packages -->\n",
    "pip uninstall python-dateutil\n",
    "<!-- remove all the packages in that list -->\n",
    "pip uninstall -r requirements.txt -y\n"
   ]
  },
  {
   "cell_type": "code",
   "execution_count": 10,
   "metadata": {},
   "outputs": [
    {
     "ename": "SyntaxError",
     "evalue": "invalid syntax (1605122989.py, line 1)",
     "output_type": "error",
     "traceback": [
      "\u001b[1;36m  Cell \u001b[1;32mIn[10], line 1\u001b[1;36m\u001b[0m\n\u001b[1;33m    mkdir src\u001b[0m\n\u001b[1;37m          ^\u001b[0m\n\u001b[1;31mSyntaxError\u001b[0m\u001b[1;31m:\u001b[0m invalid syntax\n"
     ]
    }
   ],
   "source": [
    "mkdir src\n"
   ]
  },
  {
   "cell_type": "code",
   "execution_count": 12,
   "metadata": {},
   "outputs": [
    {
     "ename": "SyntaxError",
     "evalue": "invalid syntax (847518117.py, line 1)",
     "output_type": "error",
     "traceback": [
      "\u001b[1;36m  Cell \u001b[1;32mIn[12], line 1\u001b[1;36m\u001b[0m\n\u001b[1;33m    touch app.py\u001b[0m\n\u001b[1;37m          ^\u001b[0m\n\u001b[1;31mSyntaxError\u001b[0m\u001b[1;31m:\u001b[0m invalid syntax\n"
     ]
    }
   ],
   "source": [
    " \n",
    "touch app.py\n",
    "touch requirements.txt"
   ]
  },
  {
   "cell_type": "markdown",
   "metadata": {},
   "source": [
    "1.How do you know you're in a virtual environment named env? \n",
    "ans:Your console prompt has changed to start with (env) ->.\n",
    "2.How would you get a list of installed libraries?\n",
    "ans:Run pip freeze.\n",
    "3.How would you upgrade a package named \"Flask\"?\n",
    "an:Run pip install Flask --upgrade.\n",
    "\n"
   ]
  }
 ],
 "metadata": {
  "kernelspec": {
   "display_name": "Python 3",
   "language": "python",
   "name": "python3"
  },
  "language_info": {
   "codemirror_mode": {
    "name": "ipython",
    "version": 3
   },
   "file_extension": ".py",
   "mimetype": "text/x-python",
   "name": "python",
   "nbconvert_exporter": "python",
   "pygments_lexer": "ipython3",
   "version": "3.12.4"
  }
 },
 "nbformat": 4,
 "nbformat_minor": 2
}
