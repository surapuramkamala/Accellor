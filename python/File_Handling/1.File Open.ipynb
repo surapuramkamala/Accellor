{
 "cells": [
  {
   "cell_type": "markdown",
   "metadata": {},
   "source": [
    "# File Open -> its a important part of any web application\n",
    "- Python has several functions for creating, reading, updating, and deleting files."
   ]
  },
  {
   "cell_type": "code",
   "execution_count": null,
   "metadata": {},
   "outputs": [],
   "source": [
    "# File Open\n",
    "    # - key function for working with files in Python is the \"open()\"\n",
    "    # - Open() -> takes two parameters; Filename, and mode .\n",
    "    # - diff mode:\n",
    "        # \"r\" -> \"r\" - Read - Default value\n",
    "        # \"a\" - Append - Opens a file for appending\n",
    "        # \"w\" - Write - Opens a file for writing\n",
    "        # \"x\" - Create - Creates the specified file\n",
    "        # \"t\" - Text - Default value. Text mode\n",
    "        # \"b\" - Binary - Binary mode (e.g. images)\n",
    "\n"
   ]
  },
  {
   "cell_type": "code",
   "execution_count": 4,
   "metadata": {},
   "outputs": [],
   "source": [
    "# To open a file for reading it is enough to specify the name of the file:\n",
    "f = open(\"demofile.txt\")\n"
   ]
  },
  {
   "cell_type": "code",
   "execution_count": 5,
   "metadata": {},
   "outputs": [],
   "source": [
    "f = open('demofile.txt','rt')"
   ]
  },
  {
   "cell_type": "markdown",
   "metadata": {},
   "source": [
    "# Open a File on the Server\n"
   ]
  },
  {
   "cell_type": "code",
   "execution_count": 6,
   "metadata": {},
   "outputs": [
    {
     "name": "stdout",
     "output_type": "stream",
     "text": [
      "Hello\n"
     ]
    }
   ],
   "source": [
    "# with file name\n",
    "f = open(\"demofile.txt\",\"r\")\n",
    "print(f.read())"
   ]
  },
  {
   "cell_type": "code",
   "execution_count": 7,
   "metadata": {},
   "outputs": [
    {
     "name": "stdout",
     "output_type": "stream",
     "text": [
      "Hello\n"
     ]
    },
    {
     "name": "stderr",
     "output_type": "stream",
     "text": [
      "<>:2: SyntaxWarning: invalid escape sequence '\\K'\n",
      "<>:2: SyntaxWarning: invalid escape sequence '\\K'\n",
      "C:\\Users\\KamalaSurapuram\\AppData\\Local\\Temp\\ipykernel_19728\\2421243548.py:2: SyntaxWarning: invalid escape sequence '\\K'\n",
      "  f = open(\"C:\\\\Users\\KamalaSurapuram\\OneDrive - Accellor\\Documents\\GitHub\\Python\\File_Handling\\demofile.txt\", \"r\")\n"
     ]
    }
   ],
   "source": [
    "# with path\n",
    "f = open(\"C:\\\\Users\\KamalaSurapuram\\OneDrive - Accellor\\Documents\\GitHub\\Python\\File_Handling\\demofile.txt\", \"r\")\n",
    "print(f.read())"
   ]
  },
  {
   "cell_type": "markdown",
   "metadata": {},
   "source": [
    "# Read Only Parts of the File"
   ]
  },
  {
   "cell_type": "code",
   "execution_count": 8,
   "metadata": {},
   "outputs": [
    {
     "name": "stdout",
     "output_type": "stream",
     "text": [
      "Hello\n"
     ]
    }
   ],
   "source": [
    "# <!-- Return the 5 first characters of the file: -->\n",
    "f = open(\"demofile.txt\",\"r\")\n",
    "print(f.read(5))"
   ]
  },
  {
   "cell_type": "code",
   "execution_count": 13,
   "metadata": {},
   "outputs": [
    {
     "name": "stdout",
     "output_type": "stream",
     "text": [
      "Hello! Wellcome to demofile.txt\n",
      "\n"
     ]
    }
   ],
   "source": [
    "# Read Lines\n",
    "    # - You can return one line by using the readline() method:\n",
    "# Read one line of the file:\n",
    "f = open(\"demofile.txt\", \"r\")\n",
    "print(f.readline())\n"
   ]
  },
  {
   "cell_type": "code",
   "execution_count": 14,
   "metadata": {},
   "outputs": [
    {
     "name": "stdout",
     "output_type": "stream",
     "text": [
      "Hello! Wellcome to demofile.txt\n",
      "\n",
      "This file is for testing purposes.\n",
      "\n"
     ]
    }
   ],
   "source": [
    "# Read two lines of the file:\n",
    "f = open(\"demofile.txt\",\"r\")\n",
    "print(f.readline())\n",
    "print(f.readline())"
   ]
  },
  {
   "cell_type": "code",
   "execution_count": 15,
   "metadata": {},
   "outputs": [
    {
     "name": "stdout",
     "output_type": "stream",
     "text": [
      "Hello! Wellcome to demofile.txt\n",
      "\n",
      "This file is for testing purposes.\n",
      "\n",
      "Good Luck!\n"
     ]
    }
   ],
   "source": [
    "# Loop through the file line by line:\n",
    "f = open(\"demofile.txt\",\"r\")\n",
    "for x in f:\n",
    "    print(x)"
   ]
  },
  {
   "cell_type": "code",
   "execution_count": 16,
   "metadata": {},
   "outputs": [
    {
     "name": "stdout",
     "output_type": "stream",
     "text": [
      "Hello! Wellcome to demofile.txt\n",
      "\n"
     ]
    }
   ],
   "source": [
    "# Close Files\n",
    "f = open(\"demofile.txt\",\"r\")\n",
    "print(f.readline())\n",
    "f.close()\n"
   ]
  }
 ],
 "metadata": {
  "kernelspec": {
   "display_name": "Python 3",
   "language": "python",
   "name": "python3"
  },
  "language_info": {
   "codemirror_mode": {
    "name": "ipython",
    "version": 3
   },
   "file_extension": ".py",
   "mimetype": "text/x-python",
   "name": "python",
   "nbconvert_exporter": "python",
   "pygments_lexer": "ipython3",
   "version": "3.12.4"
  }
 },
 "nbformat": 4,
 "nbformat_minor": 2
}
