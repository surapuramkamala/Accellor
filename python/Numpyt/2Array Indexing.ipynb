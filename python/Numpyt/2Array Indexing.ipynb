{
 "cells": [
  {
   "cell_type": "markdown",
   "metadata": {},
   "source": [
    "NumPy Array Indexing"
   ]
  },
  {
   "cell_type": "code",
   "execution_count": 2,
   "metadata": {},
   "outputs": [
    {
     "name": "stdout",
     "output_type": "stream",
     "text": [
      "1\n",
      "4\n",
      "6\n"
     ]
    }
   ],
   "source": [
    "# Access Array Elements:\n",
    "# -Array indexing is the same as accessing an array element.\n",
    "\n",
    "import numpy as np\n",
    "arr = np.array([1,2,4,5])\n",
    "print(arr[0])\n",
    "print(arr[2])\n",
    "\n",
    "print(arr[2] + arr[1])\n"
   ]
  },
  {
   "cell_type": "code",
   "execution_count": 3,
   "metadata": {},
   "outputs": [
    {
     "name": "stdout",
     "output_type": "stream",
     "text": [
      "2\n",
      "6\n"
     ]
    }
   ],
   "source": [
    "# Access 2-D Arrays\n",
    "# -use comma separated integers\n",
    "\n",
    "arr = np.array([[1,2,3],[4,5,6]])\n",
    "print(arr[0, 1])\n",
    "\n",
    "print(arr[1,2]) "
   ]
  },
  {
   "cell_type": "code",
   "execution_count": 7,
   "metadata": {},
   "outputs": [
    {
     "name": "stdout",
     "output_type": "stream",
     "text": [
      "5\n"
     ]
    }
   ],
   "source": [
    "# Access 3-D Arrays\n",
    "arr = np.array([[[1,2,3],[4,3,5]],[[6,4,5],[6,5,8]],[[3,4,8],[9,8,7]]])\n",
    "print(arr[1,1,1])"
   ]
  },
  {
   "cell_type": "code",
   "execution_count": 6,
   "metadata": {},
   "outputs": [
    {
     "name": "stdout",
     "output_type": "stream",
     "text": [
      "7\n",
      "[6 4 5]\n"
     ]
    }
   ],
   "source": [
    "# Negative Indexing\n",
    "print(arr[-1,-1,-1])\n",
    "print(arr[1,-2])"
   ]
  }
 ],
 "metadata": {
  "kernelspec": {
   "display_name": "Python 3",
   "language": "python",
   "name": "python3"
  },
  "language_info": {
   "codemirror_mode": {
    "name": "ipython",
    "version": 3
   },
   "file_extension": ".py",
   "mimetype": "text/x-python",
   "name": "python",
   "nbconvert_exporter": "python",
   "pygments_lexer": "ipython3",
   "version": "3.12.4"
  }
 },
 "nbformat": 4,
 "nbformat_minor": 2
}
