{
 "cells": [
  {
   "cell_type": "markdown",
   "metadata": {},
   "source": [
    "# Joining NumPy Arrays"
   ]
  },
  {
   "cell_type": "code",
   "execution_count": 35,
   "metadata": {},
   "outputs": [
    {
     "name": "stdout",
     "output_type": "stream",
     "text": [
      "For 1D array\n",
      "[1 2 3 4 5 6]\n"
     ]
    }
   ],
   "source": [
    "# Joining NumPy Arrays\n",
    "    # - means putting contents of two or more arrays in a single array\n",
    "    # -want to join to the concatenate() function\n",
    "import numpy as np\n",
    "\n",
    "print(\"For 1D array\")\n",
    "arr1 = np.array([1, 2, 3])\n",
    "arr2 = np.array([4, 5, 6])\n",
    "arr3 = np.array([1, 2, 3])\n",
    "arr4 = np.array([4, 5, 6])\n",
    "arr = np.concatenate((arr1, arr2))\n",
    "print(arr)"
   ]
  },
  {
   "cell_type": "code",
   "execution_count": 33,
   "metadata": {},
   "outputs": [
    {
     "name": "stdout",
     "output_type": "stream",
     "text": [
      "For 2D array\n",
      "[[1 3 5 6]\n",
      " [4 5 7 6]]\n"
     ]
    }
   ],
   "source": [
    "print(\"For 2D array\")\n",
    "arr1 = np.array([[1,3],[4,5]])\n",
    "arr2 = np.array([[5,6],[7,6]])\n",
    "arr = np.concatenate((arr1, arr2), axis = 1)\n",
    "print(arr) "
   ]
  },
  {
   "cell_type": "code",
   "execution_count": 7,
   "metadata": {},
   "outputs": [
    {
     "name": "stdout",
     "output_type": "stream",
     "text": [
      "For 3D array\n",
      "[[[1 2 4 3]\n",
      "  [3 4 7 8]]\n",
      "\n",
      " [[5 6 9 7]\n",
      "  [9 8 4 7]]]\n"
     ]
    }
   ],
   "source": [
    "import numpy as np\n",
    "print(\"For 3D array\")\n",
    "arr1 = np.array([[[1,2],[3,4]], [[5,6],[9,8]]])\n",
    "arr2 = np.array([[[4,3],[7,8]], [[9,7],[4,7]]])\n",
    "arr = np.concatenate((arr1, arr2), axis = 2)\n",
    "print(arr) \n"
   ]
  },
  {
   "cell_type": "markdown",
   "metadata": {},
   "source": [
    "# Joining Arrays Using Stack Functions"
   ]
  },
  {
   "cell_type": "code",
   "execution_count": null,
   "metadata": {},
   "outputs": [
    {
     "name": "stdout",
     "output_type": "stream",
     "text": [
      "[[1 2 3]\n",
      " [4 5 6]]\n"
     ]
    }
   ],
   "source": [
    "# Joining Arrays Using Stack Functions\n",
    "    # - Stacking is same as concatenation\n",
    "    # - only difference is that stacking is done along a new axis.\n",
    "    # - we want to join to the stack() method along with the axis\n",
    "    # -  If axis is not explicitly passed it is taken as 0.\n",
    "\n",
    "arr1 = np.array([1, 2, 3])\n",
    "arr2 = np.array([4, 5, 6])\n",
    "arr = np.stack((arr1, arr2), axis = 1)\n",
    "print(arr)\n",
    "\n"
   ]
  },
  {
   "cell_type": "code",
   "execution_count": 9,
   "metadata": {},
   "outputs": [
    {
     "name": "stdout",
     "output_type": "stream",
     "text": [
      "Stacking Along Rows\n",
      "[1 2 3 4 5 6]\n",
      "\n"
     ]
    }
   ],
   "source": [
    "# Stacking Along Rows\n",
    "    # - hstack() to stack along rows\n",
    "print(\"Stacking Along Rows\")\n",
    "\n",
    "arr1 = np.array([1, 2, 3])\n",
    "arr2 = np.array([4, 5, 6])\n",
    "arr = np.hstack((arr1, arr2))\n",
    "print(arr)\n",
    "print()"
   ]
  },
  {
   "cell_type": "code",
   "execution_count": 30,
   "metadata": {},
   "outputs": [
    {
     "name": "stdout",
     "output_type": "stream",
     "text": [
      "Stacking Along Columns\n",
      "[[1 2 3]\n",
      " [4 5 6]]\n"
     ]
    }
   ],
   "source": [
    "# Stacking Along Columns\n",
    "    # - vstack()  to stack along columns.\n",
    "print(\"Stacking Along Columns\")\n",
    "arr1 = np.array([1, 2, 3])\n",
    "arr2 = np.array([4, 5, 6])\n",
    "arr = np.vstack((arr1, arr2))\n",
    "print(arr)\n"
   ]
  },
  {
   "cell_type": "code",
   "execution_count": 32,
   "metadata": {},
   "outputs": [
    {
     "name": "stdout",
     "output_type": "stream",
     "text": [
      "For 1D array\n",
      "[[[1 4]\n",
      "  [2 5]\n",
      "  [3 6]]]\n"
     ]
    }
   ],
   "source": [
    "# Stacking Along Height (depth)\n",
    "    #  - dstack() to stack along height, which is the same as depth.\n",
    "\n",
    "print(\"For 1D array\")\n",
    "arr1 = np.array([1, 2, 3])\n",
    "\n",
    "arr2 = np.array([4, 5, 6])\n",
    "\n",
    "arr = np.dstack((arr1, arr2))\n",
    "\n",
    "print(arr)"
   ]
  },
  {
   "cell_type": "code",
   "execution_count": 31,
   "metadata": {},
   "outputs": [
    {
     "name": "stdout",
     "output_type": "stream",
     "text": [
      "For 2D array\n",
      "[[[1 4]\n",
      "  [2 5]\n",
      "  [3 6]]\n",
      "\n",
      " [[6 4]\n",
      "  [7 5]\n",
      "  [8 6]]]\n"
     ]
    }
   ],
   "source": [
    "print(\"For 2D array\")\n",
    "arr1 = np.array([[1, 2, 3],[6, 7, 8]])\n",
    "arr2 = np.array([[4, 5, 6], [4, 5, 6]])\n",
    "arr = np.dstack((arr1, arr2))\n",
    "print(arr)"
   ]
  }
 ],
 "metadata": {
  "kernelspec": {
   "display_name": "Python 3",
   "language": "python",
   "name": "python3"
  },
  "language_info": {
   "codemirror_mode": {
    "name": "ipython",
    "version": 3
   },
   "file_extension": ".py",
   "mimetype": "text/x-python",
   "name": "python",
   "nbconvert_exporter": "python",
   "pygments_lexer": "ipython3",
   "version": "3.12.4"
  }
 },
 "nbformat": 4,
 "nbformat_minor": 2
}
