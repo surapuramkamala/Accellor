{
 "cells": [
  {
   "cell_type": "code",
   "execution_count": 1,
   "metadata": {},
   "outputs": [
    {
     "name": "stdout",
     "output_type": "stream",
     "text": [
      "[1 2 4]\n",
      "[5 3 4 2 1]\n",
      "[3 5]\n",
      "[1 2]\n",
      "[1 2 4]\n",
      "[4 3 5]\n",
      "[1 4 5]\n",
      "[1 4 5]\n"
     ]
    }
   ],
   "source": [
    "# NumPy Array Slicing\n",
    "# - taking elements from one given index to another given index.\n",
    "# We pass slice instead of index like this: [start:end].\n",
    "# We can also define the step, like this: [start:end:step].\n",
    "\n",
    "import numpy as np\n",
    "\n",
    "arr = np.array([1,2,4,3,5])\n",
    "print(arr[0:3])\n",
    "print(arr[::-1])\n",
    "print(arr[-2:])\n",
    "print(arr[:-3])\n",
    "print(arr[:3])\n",
    "print(arr[2:])\n",
    "print(arr[::2])\n",
    "print(arr[0:5:2])\n"
   ]
  },
  {
   "cell_type": "code",
   "execution_count": 2,
   "metadata": {},
   "outputs": [
    {
     "name": "stdout",
     "output_type": "stream",
     "text": [
      "[5 6 7]\n",
      "[3 6]\n",
      "[2]\n",
      "[[2 3 4 5]\n",
      " [8 7 6 4]]\n"
     ]
    }
   ],
   "source": [
    "# Slicing 2-D Arrays\n",
    "\n",
    "arr = np.array([[1,2,3,4],[4,5,6,7]])\n",
    "\n",
    "# From the second element, slice elements from index 1 to index 4 (not included)\n",
    "print(arr[1, 1:4])\n",
    "\n",
    "# both elements, return index 2 or else :\n",
    "print(arr[0:2, 2])\n",
    "print(arr[:1, 1])\n",
    "\n",
    "\n",
    "# From both elements, slice index 1 to index 4 (not included), this will return a 2-D array:\n",
    "arr = np.array([[1,2,3,4,5],[9,8,7,6,4]])\n",
    "print(arr[0:2, 1:5])\n"
   ]
  }
 ],
 "metadata": {
  "kernelspec": {
   "display_name": "Python 3",
   "language": "python",
   "name": "python3"
  },
  "language_info": {
   "codemirror_mode": {
    "name": "ipython",
    "version": 3
   },
   "file_extension": ".py",
   "mimetype": "text/x-python",
   "name": "python",
   "nbconvert_exporter": "python",
   "pygments_lexer": "ipython3",
   "version": "3.12.4"
  }
 },
 "nbformat": 4,
 "nbformat_minor": 2
}
