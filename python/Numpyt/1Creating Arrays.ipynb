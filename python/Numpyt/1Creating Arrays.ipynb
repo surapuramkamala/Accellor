{
 "cells": [
  {
   "cell_type": "markdown",
   "metadata": {},
   "source": [
    "<-- NumPy -->"
   ]
  },
  {
   "cell_type": "markdown",
   "metadata": {},
   "source": [
    "- it's a python library\n",
    "- it's used for working with arrays\n",
    "- NumPy -> Numerical python\n",
    "-working in domain of linear algebra, fourier transform, and matrices.\n",
    "- created in 2005 by Travis Oliphant\n",
    "- It is an open source project"
   ]
  },
  {
   "cell_type": "markdown",
   "metadata": {},
   "source": [
    "<!-- Why Use NumPy -->\n",
    "-  NumPy is called ndarray\n",
    "- In Python we have lists that serve the purpose of arrays, but they are slow to process\n",
    "\n",
    "<!-- Why is NumPy Faster Than Lists -->\n",
    "\n",
    "-arrays are stored at one continuous place in memory unlike list"
   ]
  },
  {
   "cell_type": "code",
   "execution_count": 2,
   "metadata": {},
   "outputs": [
    {
     "ename": "SyntaxError",
     "evalue": "invalid syntax (2947115696.py, line 2)",
     "output_type": "error",
     "traceback": [
      "\u001b[1;36m  Cell \u001b[1;32mIn[2], line 2\u001b[1;36m\u001b[0m\n\u001b[1;33m    pip install numpy\u001b[0m\n\u001b[1;37m        ^\u001b[0m\n\u001b[1;31mSyntaxError\u001b[0m\u001b[1;31m:\u001b[0m invalid syntax\n"
     ]
    }
   ],
   "source": [
    "# Installation of NumPy\n",
    "# pip install numpy"
   ]
  },
  {
   "cell_type": "code",
   "execution_count": 12,
   "metadata": {},
   "outputs": [
    {
     "name": "stdout",
     "output_type": "stream",
     "text": [
      "[1 2 3 4 5]\n"
     ]
    }
   ],
   "source": [
    "# Import NumPy and NumPy as np\n",
    "\n",
    "import numpy as np\n",
    "arr = np.array([1,2,3,8,4,5])\n",
    "print(arr)\n",
    "\n"
   ]
  },
  {
   "cell_type": "code",
   "execution_count": 5,
   "metadata": {},
   "outputs": [
    {
     "name": "stdout",
     "output_type": "stream",
     "text": [
      "1.26.4\n"
     ]
    }
   ],
   "source": [
    "# Checking NumPy Version\n",
    "print(np.__version__)"
   ]
  },
  {
   "cell_type": "code",
   "execution_count": 13,
   "metadata": {},
   "outputs": [
    {
     "name": "stdout",
     "output_type": "stream",
     "text": [
      "[1 2 3 4 5]\n",
      "<class 'numpy.ndarray'>\n"
     ]
    }
   ],
   "source": [
    "# Create a NumPy ndarray Object\n",
    "arr = np.array([1,2,3,4,5])\n",
    "print(arr)\n",
    "\n",
    "print(type(arr))"
   ]
  },
  {
   "cell_type": "code",
   "execution_count": 14,
   "metadata": {},
   "outputs": [
    {
     "name": "stdout",
     "output_type": "stream",
     "text": [
      "[1 2 3 4 5]\n",
      "<class 'numpy.ndarray'>\n"
     ]
    }
   ],
   "source": [
    "# tuple to create a NumPy array:\n",
    "\n",
    "arr = np.array((1,2,3,4,5))\n",
    "print(arr)\n",
    "\n",
    "print(type(arr))"
   ]
  },
  {
   "cell_type": "code",
   "execution_count": 15,
   "metadata": {},
   "outputs": [
    {
     "name": "stdout",
     "output_type": "stream",
     "text": [
      "42\n",
      "[1 2 3 4 5]\n",
      "[[1 2 3 4]\n",
      " [1 6 8 5]]\n",
      "[[[ 1  2  4]\n",
      "  [ 3  4  5]\n",
      "  [ 5  6  7]]\n",
      "\n",
      " [[12  3  4]\n",
      "  [ 6  4  5]\n",
      "  [ 4  3  4]]]\n"
     ]
    }
   ],
   "source": [
    "# Dimensions in Arrays\n",
    "\n",
    "# 0-D Arrays\n",
    "# 0-D arrays, or Scalars, are the elements in an array. Each value in an array is a 0-D array.\n",
    "arr = np.array(42)\n",
    "print(arr)\n",
    "\n",
    "#1-D Arrays\n",
    "# An array that has 0-D arrays as its elements is called uni-dimensional or 1-D array\n",
    "# NumPy has a whole sub module dedicated towards matrix operations called numpy.mat\n",
    "\n",
    "arr = np.array([1,2,3,4,5])\n",
    "print(arr)\n",
    "\n",
    "# 2D-array or matrix\n",
    "# An array that has 1-D arrays as its elements is called a 2-D array.\n",
    "arr = np.array([[1,2,3,4], [1,6,8,5]])\n",
    "print(arr)\n",
    "\n",
    "#3D-array \n",
    "arr = np.array([[[1, 2, 4],[3,4,5],[5,6,7]],[[12,3,4],[6,4,5],[4,3,4]]])\n",
    "print(arr)"
   ]
  },
  {
   "cell_type": "code",
   "execution_count": 9,
   "metadata": {},
   "outputs": [
    {
     "name": "stdout",
     "output_type": "stream",
     "text": [
      "0\n",
      "1\n",
      "2\n",
      "3\n",
      "4\n"
     ]
    }
   ],
   "source": [
    "# Check Number of Dimensions\n",
    "# NumPy Arrays provides the \"ndim\" attribute that returns an integer that tells us how many dimensions the array have.\n",
    "a = np.array(42)\n",
    "print(a.ndim)\n",
    "\n",
    "b = np.array([1,2,3,4])\n",
    "print(b.ndim)\n",
    "\n",
    "c = np.array([[1,2,3],[2,3,4]])\n",
    "print(c.ndim)\n",
    "\n",
    "d = np.array([[[1,2,3],[1,2,3]], [[2,1,2],[6,5,7]]])\n",
    "print(d.ndim)\n",
    "\n",
    "e = np.array([[[[1,2],[3,2]],[[3,4],[3,4]],[[2,1],[4,5]],[[2,1],[5,4]]]])\n",
    "print(e.ndim)\n"
   ]
  },
  {
   "cell_type": "code",
   "execution_count": 10,
   "metadata": {},
   "outputs": [
    {
     "name": "stdout",
     "output_type": "stream",
     "text": [
      "[[[[[1 2 3 4 5 6]]]]]\n",
      "number of dimension : 5\n"
     ]
    }
   ],
   "source": [
    "# Higher Dimensional Arrays\n",
    "# - An array can have any number of dimensions.\n",
    "# - using the \"ndmin\" argument.\n",
    "\n",
    "arr = np.array([1,2,3,4,5,6], ndmin = 5)\n",
    "print(arr)\n",
    "\n",
    "print(f'number of dimension : {arr.ndim}')"
   ]
  }
 ],
 "metadata": {
  "kernelspec": {
   "display_name": "Python 3",
   "language": "python",
   "name": "python3"
  },
  "language_info": {
   "codemirror_mode": {
    "name": "ipython",
    "version": 3
   },
   "file_extension": ".py",
   "mimetype": "text/x-python",
   "name": "python",
   "nbconvert_exporter": "python",
   "pygments_lexer": "ipython3",
   "version": "3.12.4"
  }
 },
 "nbformat": 4,
 "nbformat_minor": 2
}
