{
 "cells": [
  {
   "cell_type": "code",
   "execution_count": 1,
   "metadata": {},
   "outputs": [
    {
     "name": "stdout",
     "output_type": "stream",
     "text": [
      "(2, 3)\n",
      "[[[[[[1 2 3 4]]]]]]\n",
      "hape of array: (1, 1, 1, 1, 1, 4)\n",
      "[[[[[1 2 3 4]]]]]\n",
      "hape of array: (1, 1, 1, 1, 4)\n"
     ]
    }
   ],
   "source": [
    "# Array Shape\n",
    "    # The shape of an array is the number of elements in each dimension.\n",
    "\n",
    "# Get the Shape of an Array\n",
    "    # \"shape\" that returns a tuple with each index having the number of corresponding elements.\n",
    "import numpy as np\n",
    " \n",
    "arr = np.array([[1,2,3],[6,7,9]])\n",
    "print(arr.shape)\n",
    "\n",
    "\n",
    "arr = np.array([1,2,3,4], ndmin = 6)\n",
    "print(arr)\n",
    "print('hape of array:', arr.shape)\n",
    "\n",
    "arr = np.array([1,2,3,4], ndmin = 5)\n",
    "print(arr)\n",
    "print('hape of array:', arr.shape)\n",
    "\n",
    "\n"
   ]
  },
  {
   "cell_type": "code",
   "execution_count": 12,
   "metadata": {},
   "outputs": [
    {
     "name": "stdout",
     "output_type": "stream",
     "text": [
      "[ 1  2  3  4  5  6  7  8  9 10 11 12]\n",
      "[[ 1  2  3]\n",
      " [ 4  5  6]\n",
      " [ 7  8  9]\n",
      " [10 11 12]]\n",
      "[[[ 1  2]\n",
      "  [ 3  4]\n",
      "  [ 5  6]]\n",
      "\n",
      " [[ 7  8]\n",
      "  [ 9 10]\n",
      "  [11 12]]]\n"
     ]
    }
   ],
   "source": [
    "# Use the correct NumPy method to change the shape of an array from 1-D to 2-D.\n",
    "arr = np.array([1,2,3,4,5,6,7,8,9,10,11,12])\n",
    "newarr = arr.reshape(4,3)\n",
    "print(arr)\n",
    "print(newarr)\n",
    "\n",
    "newarr1 = arr.reshape(2, 3, 2)\n",
    "print(newarr1)\n"
   ]
  },
  {
   "cell_type": "code",
   "execution_count": 14,
   "metadata": {},
   "outputs": [
    {
     "name": "stdout",
     "output_type": "stream",
     "text": [
      "[1 2 3 4 5 6 7 8]\n"
     ]
    }
   ],
   "source": [
    "# Returns Copy or View?\n",
    "import numpy as np \n",
    " \n",
    "arr = np.array([1,2,3,4,5,6,7,8])\n",
    "\n",
    "print(arr.reshape(2, 4).base) #returns the original array, so it is a view"
   ]
  },
  {
   "cell_type": "code",
   "execution_count": 4,
   "metadata": {},
   "outputs": [
    {
     "name": "stdout",
     "output_type": "stream",
     "text": [
      "[[[1 2]\n",
      "  [3 4]]\n",
      "\n",
      " [[5 6]\n",
      "  [7 8]]]\n",
      "=======================\n",
      "[[1 2 3 4]\n",
      " [5 6 7 8]]\n"
     ]
    }
   ],
   "source": [
    "#Unknown Dimension\n",
    "    #  - do not have to specify an exact number for one of the dimensions in the reshape method.\n",
    "arr = np.array([1,2,3,4,5,6,7,8])\n",
    "newarr = arr.reshape(2,2,-4)\n",
    "print(newarr)\n",
    "\n",
    "print(\"=======================\")\n",
    "arr = np.array([1,2,3,4,5,6,7,8])\n",
    "newarr = arr.reshape(2,4)\n",
    "print(newarr)"
   ]
  },
  {
   "cell_type": "code",
   "execution_count": 2,
   "metadata": {},
   "outputs": [
    {
     "name": "stdout",
     "output_type": "stream",
     "text": [
      "[1 2 3 4 5 6]\n"
     ]
    }
   ],
   "source": [
    "# Flattening the arrays -> converting a multidimensional array into a 1D array\n",
    "import numpy as np\n",
    "arr = np.array([[1,2,3], [4,5,6]])\n",
    "newarr = arr.reshape(-1)\n",
    "print(newarr)\n"
   ]
  }
 ],
 "metadata": {
  "kernelspec": {
   "display_name": "Python 3",
   "language": "python",
   "name": "python3"
  },
  "language_info": {
   "codemirror_mode": {
    "name": "ipython",
    "version": 3
   },
   "file_extension": ".py",
   "mimetype": "text/x-python",
   "name": "python",
   "nbconvert_exporter": "python",
   "pygments_lexer": "ipython3",
   "version": "3.12.4"
  }
 },
 "nbformat": 4,
 "nbformat_minor": 2
}
