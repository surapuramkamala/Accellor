{
 "cells": [
  {
   "cell_type": "markdown",
   "metadata": {},
   "source": [
    "# Pandas Introduction\n",
    "- is a Python library used for working with data sets.\n",
    "- It has functions for analyzing, cleaning, exploring, and manipulating data\n",
    "\n",
    "- Pandas -> panel Data and python data analysis\n",
    "- created by Wes McKinney in 2008.\n",
    "\n",
    "# Use of Pandas\n",
    "- Pandas allows us to analyze big data and make conclusions based on statistical theories\n",
    "- Pandas can clean messy data sets, and make them readable and relevant\n",
    "- It also able to delete rows that are not relevant, or contains wrong values, like empty or NULL values. This is called cleaning the data.\n",
    "\n"
   ]
  },
  {
   "cell_type": "code",
   "execution_count": 9,
   "metadata": {},
   "outputs": [
    {
     "name": "stdout",
     "output_type": "stream",
     "text": [
      "  car  passings\n",
      "0   a         1\n",
      "1   b         2\n"
     ]
    }
   ],
   "source": [
    "# Import and use as pd\n",
    "import pandas as pd\n",
    "\n",
    "# mydatset = {\n",
    "#     'cars' : [\"BMW\", \"Volvo\", \"Ford\"],\n",
    "#     'passings' : [3, 7, 2]}\n",
    "# myvar = pd.DataFrame(mydatset)\n",
    "# print(myvar)\n",
    "\n",
    "\n"
   ]
  },
  {
   "cell_type": "code",
   "execution_count": 3,
   "metadata": {},
   "outputs": [
    {
     "name": "stdout",
     "output_type": "stream",
     "text": [
      "2.2.2\n"
     ]
    }
   ],
   "source": [
    "# Checking Pandas Version\n",
    "print(pd.__version__)"
   ]
  }
 ],
 "metadata": {
  "kernelspec": {
   "display_name": "Python 3",
   "language": "python",
   "name": "python3"
  },
  "language_info": {
   "codemirror_mode": {
    "name": "ipython",
    "version": 3
   },
   "file_extension": ".py",
   "mimetype": "text/x-python",
   "name": "python",
   "nbconvert_exporter": "python",
   "pygments_lexer": "ipython3",
   "version": "3.12.4"
  }
 },
 "nbformat": 4,
 "nbformat_minor": 2
}
