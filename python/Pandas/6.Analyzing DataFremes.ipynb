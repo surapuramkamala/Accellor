{
 "cells": [
  {
   "cell_type": "markdown",
   "metadata": {},
   "source": [
    "# Analyzing DataFrames\n",
    "<!-- Analyzing DataFrames -->\n",
    "- One of the most used method for getting a quick overview of the DataFrame, is the head() method.\n",
    "- The head() method returns the headers and a specified number of rows, starting from the top.\n"
   ]
  },
  {
   "cell_type": "code",
   "execution_count": 1,
   "metadata": {},
   "outputs": [
    {
     "name": "stdout",
     "output_type": "stream",
     "text": [
      "          0      1         2         3\n",
      "0  Duration  Pulse  Maxpulse  Calories\n",
      "1        60    110       130     409.1\n",
      "2        60    117       145     479.0\n",
      "3        60    103       135     340.0\n",
      "4        45    109       175     282.4\n",
      "5        45    117       148     406.0\n",
      "6        60    102       127     300.0\n",
      "7        60    110       136     374.0\n",
      "8        45    104       134     253.3\n",
      "9        30    109       133     195.1\n"
     ]
    }
   ],
   "source": [
    "# Get a quick overview by printing the first 10 rows of the DataFrame:\n",
    "import pandas as pd \n",
    "df = pd.read_csv('data.csv', header = None)\n",
    "print(df.head(10))"
   ]
  },
  {
   "cell_type": "code",
   "execution_count": 2,
   "metadata": {},
   "outputs": [
    {
     "name": "stdout",
     "output_type": "stream",
     "text": [
      "          0      1         2         3\n",
      "0  Duration  Pulse  Maxpulse  Calories\n",
      "1        60    110       130     409.1\n",
      "2        60    117       145     479.0\n",
      "3        60    103       135     340.0\n",
      "4        45    109       175     282.4\n"
     ]
    }
   ],
   "source": [
    "# Note: if the number of rows is not specified, the head() method will return the top 5 rows.\n",
    "print(df.head())\n"
   ]
  },
  {
   "cell_type": "code",
   "execution_count": 3,
   "metadata": {},
   "outputs": [
    {
     "name": "stdout",
     "output_type": "stream",
     "text": [
      "      0    1    2      3\n",
      "165  60  105  140  290.8\n",
      "166  60  110  145  300.0\n",
      "167  60  115  145  310.2\n",
      "168  75  120  150  320.4\n",
      "169  75  125  150  330.4\n"
     ]
    }
   ],
   "source": [
    "# Print the last 5 rows of the DataFrame:\n",
    "print(df.tail())\n"
   ]
  },
  {
   "cell_type": "code",
   "execution_count": 4,
   "metadata": {},
   "outputs": [
    {
     "name": "stdout",
     "output_type": "stream",
     "text": [
      "<class 'pandas.core.frame.DataFrame'>\n",
      "RangeIndex: 170 entries, 0 to 169\n",
      "Data columns (total 4 columns):\n",
      " #   Column  Non-Null Count  Dtype \n",
      "---  ------  --------------  ----- \n",
      " 0   0       170 non-null    object\n",
      " 1   1       170 non-null    object\n",
      " 2   2       170 non-null    object\n",
      " 3   3       165 non-null    object\n",
      "dtypes: object(4)\n",
      "memory usage: 5.4+ KB\n",
      "None\n"
     ]
    }
   ],
   "source": [
    "# Info About the Data\n",
    "    # - info() - ? gives more info about data set\n",
    "print(df.info())\n"
   ]
  },
  {
   "cell_type": "code",
   "execution_count": null,
   "metadata": {},
   "outputs": [],
   "source": [
    "# Null Values\n",
    "    # - info() method also tells us how many Non-Null values there are present in each column"
   ]
  }
 ],
 "metadata": {
  "kernelspec": {
   "display_name": "Python 3",
   "language": "python",
   "name": "python3"
  },
  "language_info": {
   "codemirror_mode": {
    "name": "ipython",
    "version": 3
   },
   "file_extension": ".py",
   "mimetype": "text/x-python",
   "name": "python",
   "nbconvert_exporter": "python",
   "pygments_lexer": "ipython3",
   "version": "3.12.4"
  }
 },
 "nbformat": 4,
 "nbformat_minor": 2
}
