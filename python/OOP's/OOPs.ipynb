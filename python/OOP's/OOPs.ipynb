{
 "cells": [
  {
   "cell_type": "markdown",
   "metadata": {},
   "source": [
    "# Introduction to object-oriented programming with Python\n"
   ]
  },
  {
   "cell_type": "code",
   "execution_count": 1,
   "metadata": {},
   "outputs": [
    {
     "name": "stdout",
     "output_type": "stream",
     "text": [
      "20\n",
      "Hi myself Rahul 45 years old with rollno 23 from student class\n"
     ]
    }
   ],
   "source": [
    "# Encapulation\n",
    "# collecting atributes and methods to gether. and hides the data\n",
    "#access data using getter's and setter's\n",
    " \n",
    "# def __init__(self, name, rollno, age):\n",
    "#     self.name = name  # public instance variable\n",
    "#     self._rollno = rollno  # protected instance variable\n",
    "#     self.__age = age  # private instance variable\n",
    "\n",
    "\n",
    "# one way to achive encapulation\n",
    "class Student:\n",
    "    def __init__(self, name, rollno, age):\n",
    "        self.name = name #public instance variable\n",
    "        self._rollno = rollno  # protected instance variable\n",
    "        self.__age = age \n",
    "    def __display(self): #  if put \"__\" it means private\n",
    "        print(f\"Hi myself {self.name} {self.__age} years old with rollno {self._rollno} from student class\")\n",
    "    def displayPrivateData(self):\n",
    "        self.__display()\n",
    "class Branch(Student):\n",
    "    def show(self):\n",
    "        print(f\"My rollno is {self._rollno}\")\n",
    "\n",
    "# b1 = Branch(\"Nisha\", 45,23)\n",
    "# b1.show()\n",
    "# def showData():\n",
    "#     b1 = Branch(\"Nisha\", 22)\n",
    "#     print(b1.name)\n",
    "# showData()\n",
    "s1 = Student(\"Rahul\",23, 20)\n",
    "print(s1._Student__age)\n",
    "s1._Student__age = 45\n",
    "s1._Student__display()\n",
    "# s1.displayPrivateData()\n",
    "# print(s1.__age)\n",
    "# print(s1.name)\n",
    "# s1.display()"
   ]
  },
  {
   "cell_type": "code",
   "execution_count": 3,
   "metadata": {},
   "outputs": [
    {
     "name": "stdout",
     "output_type": "stream",
     "text": [
      "20\n"
     ]
    }
   ],
   "source": [
    "# second way to achive using getter and setter's methods\n",
    "\n",
    "class Student:\n",
    "    def __init__(self, name, rollno, age):\n",
    "        self.name = name #public instance variable\n",
    "        self._rollno = rollno  # protected instance variable\n",
    "        self.__age = age \n",
    "    def get_age(self): #getter and setters use for private methods only\n",
    "        return self.__age \n",
    "    def set_age(self, age):\n",
    "        self.__age = age\n",
    "    def __display(self): #  if put \"__\" it means private\n",
    "        print(f\"Hi myself {self.name} {self.__age} years old with rollno {self._rollno} from student class\")\n",
    "    def displayPrivateData(self):\n",
    "        self.__display()\n",
    "class Branch(Student):\n",
    "    def show(self):\n",
    "        print(f\"My rollno is {self._rollno}\")\n",
    "\n",
    "# b1 = Branch(\"Nisha\", 45,23)\n",
    "# b1.show()\n",
    "# def showData():\n",
    "#     b1 = Branch(\"Nisha\", 22)\n",
    "#     print(b1.name)\n",
    "# showData()\n",
    "s1 = Student(\"Rahul\",23, 20)\n",
    "print(s1.get_age())"
   ]
  },
  {
   "cell_type": "code",
   "execution_count": 4,
   "metadata": {},
   "outputs": [
    {
     "ename": "IndentationError",
     "evalue": "expected an indented block after class definition on line 2 (3180270119.py, line 4)",
     "output_type": "error",
     "traceback": [
      "\u001b[1;36m  Cell \u001b[1;32mIn[4], line 4\u001b[1;36m\u001b[0m\n\u001b[1;33m    cr = car()\u001b[0m\n\u001b[1;37m    ^\u001b[0m\n\u001b[1;31mIndentationError\u001b[0m\u001b[1;31m:\u001b[0m expected an indented block after class definition on line 2\n"
     ]
    }
   ],
   "source": [
    "# Creating A class\n",
    "class car:\n",
    "#creating object for a class \n",
    "car = car()\n"
   ]
  },
  {
   "cell_type": "code",
   "execution_count": 5,
   "metadata": {},
   "outputs": [
    {
     "data": {
      "text/plain": [
       "40"
      ]
     },
     "execution_count": 5,
     "metadata": {},
     "output_type": "execute_result"
    }
   ],
   "source": [
    "# class St:\n",
    "#     _age = 40\n",
    "# s = St()\n",
    "# s.age\n",
    "\n",
    "class St:\n",
    "    age = 40\n",
    "s = St()\n",
    "s.age\n"
   ]
  },
  {
   "cell_type": "code",
   "execution_count": 6,
   "metadata": {},
   "outputs": [
    {
     "name": "stdout",
     "output_type": "stream",
     "text": [
      "The elevator  company\n",
      "1\n"
     ]
    }
   ],
   "source": [
    "# Add  and initialize attributes on a class\n",
    "class Elevator:\n",
    "    def __init__(self, strating_floor):\n",
    "        self.make = \"The elevator  company\"\n",
    "        self.floor = strating_floor \n",
    "\n",
    "elevator = Elevator(1)\n",
    "print(elevator.make)\n",
    "print(elevator.floor)"
   ]
  }
 ],
 "metadata": {
  "kernelspec": {
   "display_name": "Python 3",
   "language": "python",
   "name": "python3"
  },
  "language_info": {
   "codemirror_mode": {
    "name": "ipython",
    "version": 3
   },
   "file_extension": ".py",
   "mimetype": "text/x-python",
   "name": "python",
   "nbconvert_exporter": "python",
   "pygments_lexer": "ipython3",
   "version": "3.12.4"
  }
 },
 "nbformat": 4,
 "nbformat_minor": 2
}
