{
 "cells": [
  {
   "cell_type": "code",
   "execution_count": 4,
   "metadata": {},
   "outputs": [
    {
     "name": "stdout",
     "output_type": "stream",
     "text": [
      "Spock selects \n",
      "Kirk selects \n"
     ]
    },
    {
     "ename": "KeyError",
     "evalue": "''",
     "output_type": "error",
     "traceback": [
      "\u001b[1;31m---------------------------------------------------------------------------\u001b[0m",
      "\u001b[1;31mKeyError\u001b[0m                                  Traceback (most recent call last)",
      "Cell \u001b[1;32mIn[4], line 30\u001b[0m\n\u001b[0;32m     27\u001b[0m         \u001b[38;5;28mprint\u001b[39m(resultString)\n\u001b[0;32m     29\u001b[0m game \u001b[38;5;241m=\u001b[39m Game()\n\u001b[1;32m---> 30\u001b[0m \u001b[43mgame\u001b[49m\u001b[38;5;241;43m.\u001b[39;49m\u001b[43mstart\u001b[49m\u001b[43m(\u001b[49m\u001b[43m)\u001b[49m\n",
      "Cell \u001b[1;32mIn[4], line 8\u001b[0m, in \u001b[0;36mGame.start\u001b[1;34m(self)\u001b[0m\n\u001b[0;32m      6\u001b[0m \u001b[38;5;28;01mdef\u001b[39;00m \u001b[38;5;21mstart\u001b[39m(\u001b[38;5;28mself\u001b[39m):\n\u001b[0;32m      7\u001b[0m     \u001b[38;5;28;01mwhile\u001b[39;00m \u001b[38;5;129;01mnot\u001b[39;00m \u001b[38;5;28mself\u001b[39m\u001b[38;5;241m.\u001b[39mendGame:\n\u001b[1;32m----> 8\u001b[0m         \u001b[43mGameRound\u001b[49m\u001b[43m(\u001b[49m\u001b[38;5;28;43mself\u001b[39;49m\u001b[38;5;241;43m.\u001b[39;49m\u001b[43mparticipant\u001b[49m\u001b[43m,\u001b[49m\u001b[43m \u001b[49m\u001b[38;5;28;43mself\u001b[39;49m\u001b[38;5;241;43m.\u001b[39;49m\u001b[43msecondParticipant\u001b[49m\u001b[43m)\u001b[49m\n\u001b[0;32m      9\u001b[0m         \u001b[38;5;28mself\u001b[39m\u001b[38;5;241m.\u001b[39mcheckEndCondition()\n",
      "Cell \u001b[1;32mIn[3], line 6\u001b[0m, in \u001b[0;36mGameRound.__init__\u001b[1;34m(self, p1, p2)\u001b[0m\n\u001b[0;32m      4\u001b[0m p1\u001b[38;5;241m.\u001b[39mchoose()\n\u001b[0;32m      5\u001b[0m p2\u001b[38;5;241m.\u001b[39mchoose()\n\u001b[1;32m----> 6\u001b[0m result \u001b[38;5;241m=\u001b[39m \u001b[38;5;28;43mself\u001b[39;49m\u001b[38;5;241;43m.\u001b[39;49m\u001b[43mcompareChoices\u001b[49m\u001b[43m(\u001b[49m\u001b[43mp1\u001b[49m\u001b[43m,\u001b[49m\u001b[43m \u001b[49m\u001b[43mp2\u001b[49m\u001b[43m)\u001b[49m\n\u001b[0;32m      7\u001b[0m \u001b[38;5;28mprint\u001b[39m(\u001b[38;5;124m\"\u001b[39m\u001b[38;5;124mRound resulted in a \u001b[39m\u001b[38;5;132;01m{result}\u001b[39;00m\u001b[38;5;124m\"\u001b[39m\u001b[38;5;241m.\u001b[39mformat(result \u001b[38;5;241m=\u001b[39m \u001b[38;5;28mself\u001b[39m\u001b[38;5;241m.\u001b[39mgetResultAsString(result)))\n\u001b[0;32m      8\u001b[0m \u001b[38;5;28;01mif\u001b[39;00m result \u001b[38;5;241m>\u001b[39m \u001b[38;5;241m0\u001b[39m:\n",
      "Cell \u001b[1;32mIn[3], line 14\u001b[0m, in \u001b[0;36mGameRound.compareChoices\u001b[1;34m(self, p1, p2)\u001b[0m\n\u001b[0;32m     13\u001b[0m \u001b[38;5;28;01mdef\u001b[39;00m \u001b[38;5;21mcompareChoices\u001b[39m(\u001b[38;5;28mself\u001b[39m, p1, p2):\n\u001b[1;32m---> 14\u001b[0m     \u001b[38;5;28;01mreturn\u001b[39;00m \u001b[38;5;28mself\u001b[39m\u001b[38;5;241m.\u001b[39mrules[\u001b[43mp1\u001b[49m\u001b[38;5;241;43m.\u001b[39;49m\u001b[43mtoNumricalChoic\u001b[49m\u001b[43m(\u001b[49m\u001b[43m)\u001b[49m]\n",
      "Cell \u001b[1;32mIn[2], line 15\u001b[0m, in \u001b[0;36mParticipant.toNumricalChoic\u001b[1;34m(self)\u001b[0m\n\u001b[0;32m      9\u001b[0m \u001b[38;5;28;01mdef\u001b[39;00m \u001b[38;5;21mtoNumricalChoic\u001b[39m(\u001b[38;5;28mself\u001b[39m):\n\u001b[0;32m     10\u001b[0m     switcher \u001b[38;5;241m=\u001b[39m{\n\u001b[0;32m     11\u001b[0m         \u001b[38;5;124m\"\u001b[39m\u001b[38;5;124mrock\u001b[39m\u001b[38;5;124m\"\u001b[39m: \u001b[38;5;241m0\u001b[39m,\n\u001b[0;32m     12\u001b[0m         \u001b[38;5;124m\"\u001b[39m\u001b[38;5;124mpaper\u001b[39m\u001b[38;5;124m\"\u001b[39m: \u001b[38;5;241m1\u001b[39m,\n\u001b[0;32m     13\u001b[0m         \u001b[38;5;124m\"\u001b[39m\u001b[38;5;124mscissor\u001b[39m\u001b[38;5;124m\"\u001b[39m: \u001b[38;5;241m2\u001b[39m\n\u001b[0;32m     14\u001b[0m     }\n\u001b[1;32m---> 15\u001b[0m     \u001b[38;5;28;01mreturn\u001b[39;00m \u001b[43mswitcher\u001b[49m\u001b[43m[\u001b[49m\u001b[38;5;28;43mself\u001b[39;49m\u001b[38;5;241;43m.\u001b[39;49m\u001b[43mchoice\u001b[49m\u001b[43m]\u001b[49m\n",
      "\u001b[1;31mKeyError\u001b[0m: ''"
     ]
    }
   ],
   "source": [
    "class Participant:\n",
    "    def __init__(self, name):\n",
    "        self.name = name\n",
    "        self.points = 0\n",
    "        self.choice = \"\"\n",
    "    def choose(self):\n",
    "        self.choice = input(\"{name}, select rock, paper or scissor: \".format(name= self.name))\n",
    "        print(\"{name} selects {choice}\".format(name=self.name, choice = self.choice))\n",
    "    def toNumricalChoic(self):\n",
    "        switcher ={\n",
    "            \"rock\": 0,\n",
    "            \"paper\": 1,\n",
    "            \"scissor\": 2\n",
    "        }\n",
    "        return switcher[self.choice]\n",
    "    def incrementPoint(self):\n",
    "        self.points += 1\n",
    "\n",
    "class GameRound:\n",
    "    def __init__(self, p1, p2):\n",
    "        self.rules = [[0, -1, 1], [1, 0, -1],[-1,1,0]]\n",
    "        p1.choose()\n",
    "        p2.choose()\n",
    "        result = self.compareChoices(p1, p2)\n",
    "        print(\"Round resulted in a {result}\".format(result = self.getResultAsString(result)))\n",
    "        if result > 0:\n",
    "            p1.incrementPoint()\n",
    "        elif result < 0:\n",
    "            p2.incrementPoint()\n",
    "        \n",
    "    def compareChoices(self, p1, p2):\n",
    "        return self.rules[p1.toNumricalChoic()]\n",
    "    def awardPoints(self):\n",
    "        print(\"implement\")\n",
    "    def getResultAsString(self, result):\n",
    "        res = {0: \"draw\", 1:\"win\", -1: \"loss\"}\n",
    "        return res[result]\n",
    "    \n",
    "class Game:\n",
    "    def __init__(self):\n",
    "        self.endGame = False\n",
    "        self.participant = Participant(\"Spock\")\n",
    "        self.secondParticipant = Participant(\"Kirk\")\n",
    "    def start(self):\n",
    "        while not self.endGame:\n",
    "            GameRound(self.participant, self.secondParticipant)\n",
    "            self.checkEndCondition()\n",
    "\n",
    "    def checkEndCondition(self):\n",
    "        answer = input(\"Continue game y/n: \")\n",
    "        if answer == 'y':\n",
    "            GameRound(self.participant, self.secondParticipant)\n",
    "            self.checkEndCondition()\n",
    "\n",
    "        else:\n",
    "            print(\"Game ended, {p1name} has {p1points}, and {p2name} has{p2points}\".format(p1name = self.participant.name, p1points = self.participant.points, p2name = self.secondParticipant.name, p2point = self.secondParticipant.points))\n",
    "            self.determineWinner()\n",
    "            self.endGame = True\n",
    "    def determineWinner(self):\n",
    "        resultString = \"It's a Draw\"\n",
    "        if self.participant.points > self.secondParticipant.points:\n",
    "            resultString = \"Winner is{name}\".format(name=self.participant.name)\n",
    "        elif self.participant.points < self.secondParticipant.points:\n",
    "            resultString = \"Winner is {name}\".format(name = self.secondParticipant.name)\n",
    "        print(resultString)\n",
    "\n",
    "game = Game()\n",
    "game.start()"
   ]
  },
  {
   "cell_type": "markdown",
   "metadata": {},
   "source": [
    "# Encapsulation: Protect your data"
   ]
  },
  {
   "cell_type": "code",
   "execution_count": 5,
   "metadata": {},
   "outputs": [],
   "source": [
    "#default\n",
    "class Square:\n",
    "    def __init__(self):\n",
    "        self.height = 2 \n",
    "        self.width = 2 \n",
    "\n",
    "    def set_side(self, new_side):\n",
    "        self.height = new_side\n",
    "        self.width = new_side \n",
    "square = Square()\n",
    "square.height = 3"
   ]
  },
  {
   "cell_type": "code",
   "execution_count": 6,
   "metadata": {},
   "outputs": [],
   "source": [
    "#Access Levels - Protected '_'\n",
    "class Square:\n",
    "    def __init__(self):\n",
    "        self._height = 2\n",
    "        self._width = 2 \n",
    "    def set_side(self, new_side):\n",
    "        self._height = new_side \n",
    "        self._width = new_side \n",
    "square = Square()\n",
    "square._height = 3\n"
   ]
  },
  {
   "cell_type": "code",
   "execution_count": 26,
   "metadata": {},
   "outputs": [],
   "source": [
    "#private '__' \n",
    "class Square:\n",
    "    def __init__(self):\n",
    "        self.__height = 2\n",
    "        self.__width = 2\n",
    "    def set_side(self, new_side):\n",
    "        self.__height = new_side\n",
    "        self.__width = new_side \n",
    "square = Square()\n",
    "square._Square__height = 5 # is allowed\n"
   ]
  },
  {
   "cell_type": "code",
   "execution_count": 32,
   "metadata": {},
   "outputs": [],
   "source": [
    "# Getters and setters\n",
    "class Square:\n",
    "    def __init__(self):\n",
    "        self.__height = 2 \n",
    "        self.__width = 2 \n",
    "    def set_side(self, new_side):\n",
    "        self.__height = new_side \n",
    "        self.__width = new_side \n",
    "    def get_height(self):\n",
    "        return self.__height \n",
    "    def set_heigt(self, h):\n",
    "        if h >= 0:\n",
    "            self.__height = h \n",
    "        else:\n",
    "            raise Exception(\"Value needs to be 0 or larger\")\n",
    "    \n",
    "squre = Square()\n",
    "squre.__height = -3\n",
    "# print(squre.__height)\n"
   ]
  },
  {
   "cell_type": "code",
   "execution_count": null,
   "metadata": {},
   "outputs": [],
   "source": [
    "# Use decorators for getters and setters\n",
    "class Square:\n",
    "    def __init__(self, w, h):\n",
    "        self.__height = h \n",
    "        self.__width = w \n",
    "    def set_side(self, new_side):\n",
    "        self.__height = new_side\n",
    "        self.__width = new_side\n",
    "    @property \n",
    "    def height(self):\n",
    "        return self.__height \n",
    "    @height.setter \n",
    "    def height(self, new_value):\n",
    "        if(new_value >= 0):\n",
    "            self.__height = new_value \n",
    "        else:\n",
    "            raise Exception(\"Value must be larger than 0\")"
   ]
  }
 ],
 "metadata": {
  "kernelspec": {
   "display_name": "Python 3",
   "language": "python",
   "name": "python3"
  },
  "language_info": {
   "codemirror_mode": {
    "name": "ipython",
    "version": 3
   },
   "file_extension": ".py",
   "mimetype": "text/x-python",
   "name": "python",
   "nbconvert_exporter": "python",
   "pygments_lexer": "ipython3",
   "version": "3.12.4"
  }
 },
 "nbformat": 4,
 "nbformat_minor": 2
}
